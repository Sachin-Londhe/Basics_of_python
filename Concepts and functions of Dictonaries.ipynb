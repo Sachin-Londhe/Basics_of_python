{
 "cells": [
  {
   "cell_type": "markdown",
   "id": "5bf4173d",
   "metadata": {
    "id": "5bf4173d"
   },
   "source": [
    "# Dictionary"
   ]
  },
  {
   "cell_type": "raw",
   "id": "50189274",
   "metadata": {
    "id": "50189274"
   },
   "source": [
    "1. Dictionary is used to store data in key and value pair\n",
    "2. Dictionary is ordered if python version is > 3.6\n",
    "3. Dictionary is unordered if python version is < 3.6\n",
    "4. Mutable >> Changable\n",
    "5. Duplicate keys are not allowed\n",
    "6. Duplicates values are allowed\n",
    "7. Comma seperated"
   ]
  },
  {
   "cell_type": "raw",
   "id": "d40b4564",
   "metadata": {
    "id": "d40b4564"
   },
   "source": [
    "dict1 = {'key' : Value}\n",
    "\n",
    "key >> Immutable DataType >> int,str,float,tuple\n",
    "value >> Any data type (list,tuple,float.int,dict,set etc)"
   ]
  },
  {
   "cell_type": "markdown",
   "id": "xLB3FuE1TZz2",
   "metadata": {
    "id": "xLB3FuE1TZz2"
   },
   "source": []
  },
  {
   "cell_type": "code",
   "execution_count": null,
   "id": "63ac2608",
   "metadata": {
    "id": "63ac2608",
    "outputId": "d2095d6e-64b7-4407-a39d-0f15be5eb862"
   },
   "outputs": [
    {
     "data": {
      "text/plain": [
       "dict"
      ]
     },
     "execution_count": 2,
     "metadata": {},
     "output_type": "execute_result"
    }
   ],
   "source": [
    "dict1 = {'Name' : 'Mohan Pune'}\n",
    "dict1\n",
    "type(dict1)"
   ]
  },
  {
   "cell_type": "code",
   "execution_count": null,
   "id": "f5df3f2c",
   "metadata": {
    "id": "f5df3f2c",
    "outputId": "595ca649-bde7-4aee-d894-2a4c0bae5920"
   },
   "outputs": [
    {
     "data": {
      "text/plain": [
       "tuple"
      ]
     },
     "execution_count": 3,
     "metadata": {},
     "output_type": "execute_result"
    }
   ],
   "source": [
    "dict1 = ()\n",
    "type(dict1)"
   ]
  },
  {
   "cell_type": "code",
   "execution_count": null,
   "id": "3f5dcbb6",
   "metadata": {
    "id": "3f5dcbb6",
    "outputId": "1a294cf2-3238-4769-8fe7-45823deb3caf"
   },
   "outputs": [
    {
     "data": {
      "text/plain": [
       "dict"
      ]
     },
     "execution_count": 4,
     "metadata": {},
     "output_type": "execute_result"
    }
   ],
   "source": [
    "dict1 = dict()\n",
    "type(dict1)"
   ]
  },
  {
   "cell_type": "code",
   "execution_count": null,
   "id": "80240826",
   "metadata": {
    "id": "80240826",
    "outputId": "707d18e8-3fec-4e4f-dc98-1463bc9ca2e6"
   },
   "outputs": [
    {
     "data": {
      "text/plain": [
       "1"
      ]
     },
     "execution_count": 5,
     "metadata": {},
     "output_type": "execute_result"
    }
   ],
   "source": [
    "dict1 = {'Name' : 'Mohan Pune'}\n",
    "len(dict1)"
   ]
  },
  {
   "cell_type": "code",
   "execution_count": null,
   "id": "94f05531",
   "metadata": {
    "id": "94f05531",
    "outputId": "0560fb13-4b07-4a4c-a6f8-87d41848dc03"
   },
   "outputs": [
    {
     "data": {
      "text/plain": [
       "2"
      ]
     },
     "execution_count": 6,
     "metadata": {},
     "output_type": "execute_result"
    }
   ],
   "source": [
    "dict1 = {'Name' : 'Mohan Pune','Location' : 'Pune'}\n",
    "len(dict1)"
   ]
  },
  {
   "cell_type": "code",
   "execution_count": null,
   "id": "fee8065a",
   "metadata": {
    "id": "fee8065a",
    "outputId": "ad228d1e-e16b-4af4-c6e7-ad4817c7850e"
   },
   "outputs": [
    {
     "data": {
      "text/plain": [
       "{'Name': 'Mohan Pune', 'Location': 'Pune'}"
      ]
     },
     "execution_count": 7,
     "metadata": {},
     "output_type": "execute_result"
    }
   ],
   "source": [
    "dict1"
   ]
  },
  {
   "cell_type": "code",
   "execution_count": null,
   "id": "47bdb22a",
   "metadata": {
    "id": "47bdb22a",
    "outputId": "cf4c5b5e-b904-4928-8b68-ae35a4afb9f1"
   },
   "outputs": [
    {
     "data": {
      "text/plain": [
       "1"
      ]
     },
     "execution_count": 8,
     "metadata": {},
     "output_type": "execute_result"
    }
   ],
   "source": [
    "dict1 = {'Name' : ['Mohan Pune','Rohit Pune']}\n",
    "len(dict1)"
   ]
  },
  {
   "cell_type": "code",
   "execution_count": null,
   "id": "40b0a9b5",
   "metadata": {
    "id": "40b0a9b5",
    "outputId": "fd47f15c-54b4-4e4a-f16f-e053982d5881"
   },
   "outputs": [
    {
     "data": {
      "text/plain": [
       "{'Name': ['Mohan Pune', 'Rohit Pune']}"
      ]
     },
     "execution_count": 9,
     "metadata": {},
     "output_type": "execute_result"
    }
   ],
   "source": [
    "dict1"
   ]
  },
  {
   "cell_type": "code",
   "execution_count": null,
   "id": "fe39f23c",
   "metadata": {
    "id": "fe39f23c",
    "outputId": "96d603ef-9905-4077-b7c4-0fcd4098b5f0"
   },
   "outputs": [
    {
     "data": {
      "text/plain": [
       "3"
      ]
     },
     "execution_count": 11,
     "metadata": {},
     "output_type": "execute_result"
    }
   ],
   "source": [
    "dict1 = {'Name' : 'Suraj Mote',\n",
    "        'Score' : 90,\n",
    "        'Age' : 25}\n",
    "dict1\n",
    "len(dict1)"
   ]
  },
  {
   "cell_type": "code",
   "execution_count": null,
   "id": "75cbfb3a",
   "metadata": {
    "id": "75cbfb3a",
    "outputId": "534951c8-f781-4db0-9333-de50d40219a9"
   },
   "outputs": [
    {
     "data": {
      "text/plain": [
       "{'Employee_Name': 'Rohit', 'Salary': 50000, 'Company': 'Capgemini'}"
      ]
     },
     "execution_count": 12,
     "metadata": {},
     "output_type": "execute_result"
    }
   ],
   "source": [
    "employee_data = {'Employee_Name' : 'Rohit',\n",
    "                'Salary' : 50000,\n",
    "                'Company' :'Capgemini'}\n",
    "employee_data"
   ]
  },
  {
   "cell_type": "code",
   "execution_count": null,
   "id": "8b71e041",
   "metadata": {
    "id": "8b71e041",
    "outputId": "b06ad62a-5660-4c28-d5d5-c8b8cb31ec3f"
   },
   "outputs": [
    {
     "data": {
      "text/plain": [
       "{'India': 'Delhi', 'USA': 'Washington DC', 'UK': 'London'}"
      ]
     },
     "execution_count": 13,
     "metadata": {},
     "output_type": "execute_result"
    }
   ],
   "source": [
    "countires_capital = {'India' : 'Delhi',\n",
    "                    'USA' : 'Washington DC',\n",
    "                    'UK' : 'London'}\n",
    "countires_capital"
   ]
  },
  {
   "cell_type": "markdown",
   "id": "81159575",
   "metadata": {
    "id": "81159575"
   },
   "source": [
    "# Access Dictionary Items"
   ]
  },
  {
   "cell_type": "code",
   "execution_count": 3,
   "id": "39b5f897",
   "metadata": {
    "colab": {
     "base_uri": "https://localhost:8080/",
     "height": 35
    },
    "executionInfo": {
     "elapsed": 456,
     "status": "ok",
     "timestamp": 1656579741936,
     "user": {
      "displayName": "Neeraj Ahire",
      "userId": "03691216101588776514"
     },
     "user_tz": -330
    },
    "id": "39b5f897",
    "outputId": "189d3707-4f1a-45ca-a434-d1291fca7eb3"
   },
   "outputs": [
    {
     "data": {
      "text/plain": [
       "'Washington DC'"
      ]
     },
     "execution_count": 3,
     "metadata": {},
     "output_type": "execute_result"
    }
   ],
   "source": [
    "countires_capital = {'India' : 'Delhi',\n",
    "                    'USA' : 'Washington DC',\n",
    "                    'UK' : 'London'}\n",
    "countires_capital['USA']"
   ]
  },
  {
   "cell_type": "code",
   "execution_count": null,
   "id": "a725272b",
   "metadata": {
    "colab": {
     "base_uri": "https://localhost:8080/",
     "height": 35
    },
    "executionInfo": {
     "elapsed": 411,
     "status": "ok",
     "timestamp": 1656579744654,
     "user": {
      "displayName": "Neeraj Ahire",
      "userId": "03691216101588776514"
     },
     "user_tz": -330
    },
    "id": "a725272b",
    "outputId": "815a9247-c375-4700-cf30-f3bf592da08c"
   },
   "outputs": [
    {
     "data": {
      "application/vnd.google.colaboratory.intrinsic+json": {
       "type": "string"
      },
      "text/plain": [
       "'Delhi'"
      ]
     },
     "execution_count": 8,
     "metadata": {},
     "output_type": "execute_result"
    }
   ],
   "source": [
    "countires_capital = {'India' : 'Delhi',\n",
    "                    'USA' : 'Washington DC',\n",
    "                    'UK' : 'London'}\n",
    "countires_capital['India']"
   ]
  },
  {
   "cell_type": "code",
   "execution_count": null,
   "id": "22a32efc",
   "metadata": {
    "id": "22a32efc"
   },
   "outputs": [],
   "source": [
    "# get()"
   ]
  },
  {
   "cell_type": "code",
   "execution_count": null,
   "id": "e6bb2382",
   "metadata": {
    "colab": {
     "base_uri": "https://localhost:8080/",
     "height": 35
    },
    "executionInfo": {
     "elapsed": 464,
     "status": "ok",
     "timestamp": 1656579748222,
     "user": {
      "displayName": "Neeraj Ahire",
      "userId": "03691216101588776514"
     },
     "user_tz": -330
    },
    "id": "e6bb2382",
    "outputId": "74f066f4-69c8-48e3-b6bc-f436dc7e7a15"
   },
   "outputs": [
    {
     "data": {
      "application/vnd.google.colaboratory.intrinsic+json": {
       "type": "string"
      },
      "text/plain": [
       "'Delhi'"
      ]
     },
     "execution_count": 9,
     "metadata": {},
     "output_type": "execute_result"
    }
   ],
   "source": [
    "countires_capital.get('India')"
   ]
  },
  {
   "cell_type": "code",
   "execution_count": null,
   "id": "ec6cfeaa",
   "metadata": {
    "colab": {
     "base_uri": "https://localhost:8080/"
    },
    "executionInfo": {
     "elapsed": 5,
     "status": "ok",
     "timestamp": 1656579750695,
     "user": {
      "displayName": "Neeraj Ahire",
      "userId": "03691216101588776514"
     },
     "user_tz": -330
    },
    "id": "ec6cfeaa",
    "outputId": "37bf1100-5e9b-4c12-ee12-22bba45b7909"
   },
   "outputs": [
    {
     "name": "stdout",
     "output_type": "stream",
     "text": [
      "India\n",
      "USA\n",
      "UK\n"
     ]
    }
   ],
   "source": [
    "for i in countires_capital:    # Countries_capital.keys()\n",
    "    print(i)"
   ]
  },
  {
   "cell_type": "code",
   "execution_count": null,
   "id": "35d768a6",
   "metadata": {
    "colab": {
     "base_uri": "https://localhost:8080/"
    },
    "executionInfo": {
     "elapsed": 388,
     "status": "ok",
     "timestamp": 1656579753279,
     "user": {
      "displayName": "Neeraj Ahire",
      "userId": "03691216101588776514"
     },
     "user_tz": -330
    },
    "id": "35d768a6",
    "outputId": "f4577fa0-c1b5-4f8b-842c-954d2efa3936"
   },
   "outputs": [
    {
     "name": "stdout",
     "output_type": "stream",
     "text": [
      "India\n",
      "USA\n",
      "UK\n"
     ]
    }
   ],
   "source": [
    "for key in countires_capital:    # Countries_capital.keys()\n",
    "    print(key)"
   ]
  },
  {
   "cell_type": "code",
   "execution_count": null,
   "id": "fdf0a369",
   "metadata": {
    "colab": {
     "base_uri": "https://localhost:8080/"
    },
    "executionInfo": {
     "elapsed": 424,
     "status": "ok",
     "timestamp": 1656579755651,
     "user": {
      "displayName": "Neeraj Ahire",
      "userId": "03691216101588776514"
     },
     "user_tz": -330
    },
    "id": "fdf0a369",
    "outputId": "a4ddac70-5f0c-4e2f-d5e5-e9095f104852"
   },
   "outputs": [
    {
     "name": "stdout",
     "output_type": "stream",
     "text": [
      "India\n",
      "USA\n",
      "UK\n"
     ]
    }
   ],
   "source": [
    "for key in countires_capital.keys():    # Countries_capital.keys()\n",
    "    print(key)"
   ]
  },
  {
   "cell_type": "code",
   "execution_count": null,
   "id": "1d35864d",
   "metadata": {
    "colab": {
     "base_uri": "https://localhost:8080/"
    },
    "executionInfo": {
     "elapsed": 6,
     "status": "ok",
     "timestamp": 1656579758183,
     "user": {
      "displayName": "Neeraj Ahire",
      "userId": "03691216101588776514"
     },
     "user_tz": -330
    },
    "id": "1d35864d",
    "outputId": "d54a01cb-584e-476a-9a22-bba9478039ed"
   },
   "outputs": [
    {
     "name": "stdout",
     "output_type": "stream",
     "text": [
      "India Delhi\n",
      "USA Washington DC\n",
      "UK London\n"
     ]
    }
   ],
   "source": [
    "for key,value in countires_capital.items():    # Countries_capital.items()\n",
    "    print(key,value)"
   ]
  },
  {
   "cell_type": "code",
   "execution_count": null,
   "id": "3297ab65",
   "metadata": {
    "colab": {
     "base_uri": "https://localhost:8080/"
    },
    "executionInfo": {
     "elapsed": 400,
     "status": "ok",
     "timestamp": 1656579761012,
     "user": {
      "displayName": "Neeraj Ahire",
      "userId": "03691216101588776514"
     },
     "user_tz": -330
    },
    "id": "3297ab65",
    "outputId": "984ec6bd-fba9-4db1-f0c6-2601425240dd"
   },
   "outputs": [
    {
     "name": "stdout",
     "output_type": "stream",
     "text": [
      "Delhi\n",
      "Washington DC\n",
      "London\n"
     ]
    }
   ],
   "source": [
    "for value in countires_capital.values():    # Countries_capital.values()\n",
    "    print(value)"
   ]
  },
  {
   "cell_type": "markdown",
   "id": "0fda5cd5",
   "metadata": {
    "id": "0fda5cd5"
   },
   "source": [
    "# 1. keys()"
   ]
  },
  {
   "cell_type": "code",
   "execution_count": null,
   "id": "5b5fa382",
   "metadata": {
    "colab": {
     "base_uri": "https://localhost:8080/"
    },
    "executionInfo": {
     "elapsed": 5,
     "status": "ok",
     "timestamp": 1656579764591,
     "user": {
      "displayName": "Neeraj Ahire",
      "userId": "03691216101588776514"
     },
     "user_tz": -330
    },
    "id": "5b5fa382",
    "outputId": "ae5e6333-a4e1-46df-fdf4-438f0ee78344"
   },
   "outputs": [
    {
     "data": {
      "text/plain": [
       "dict_keys(['India', 'USA', 'UK'])"
      ]
     },
     "execution_count": 15,
     "metadata": {},
     "output_type": "execute_result"
    }
   ],
   "source": [
    "countires_capital.keys()"
   ]
  },
  {
   "cell_type": "markdown",
   "id": "cd2bcc2f",
   "metadata": {
    "id": "cd2bcc2f"
   },
   "source": [
    "# 2. values()"
   ]
  },
  {
   "cell_type": "code",
   "execution_count": 1,
   "id": "b3b11a7c",
   "metadata": {
    "colab": {
     "base_uri": "https://localhost:8080/",
     "height": 165
    },
    "executionInfo": {
     "elapsed": 52,
     "status": "error",
     "timestamp": 1656642750283,
     "user": {
      "displayName": "Somnath Khatal",
      "userId": "08002559371181018255"
     },
     "user_tz": -330
    },
    "id": "b3b11a7c",
    "outputId": "f07d30ee-119f-4008-9eaf-1a54c9860058"
   },
   "outputs": [
    {
     "ename": "NameError",
     "evalue": "name 'countires_capital' is not defined",
     "output_type": "error",
     "traceback": [
      "\u001b[1;31m---------------------------------------------------------------------------\u001b[0m",
      "\u001b[1;31mNameError\u001b[0m                                 Traceback (most recent call last)",
      "Input \u001b[1;32mIn [1]\u001b[0m, in \u001b[0;36m<cell line: 1>\u001b[1;34m()\u001b[0m\n\u001b[1;32m----> 1\u001b[0m \u001b[43mcountires_capital\u001b[49m\u001b[38;5;241m.\u001b[39mvalues()\n",
      "\u001b[1;31mNameError\u001b[0m: name 'countires_capital' is not defined"
     ]
    }
   ],
   "source": [
    "countires_capital.values()"
   ]
  },
  {
   "cell_type": "markdown",
   "id": "f04c7577",
   "metadata": {
    "id": "f04c7577"
   },
   "source": [
    "# 3. items()"
   ]
  },
  {
   "cell_type": "code",
   "execution_count": 4,
   "id": "4a6bd10b",
   "metadata": {
    "id": "4a6bd10b"
   },
   "outputs": [
    {
     "data": {
      "text/plain": [
       "dict_items([('India', 'Delhi'), ('USA', 'Washington DC'), ('UK', 'London')])"
      ]
     },
     "execution_count": 4,
     "metadata": {},
     "output_type": "execute_result"
    }
   ],
   "source": [
    "countires_capital.items()"
   ]
  },
  {
   "cell_type": "code",
   "execution_count": 5,
   "id": "9371c081",
   "metadata": {
    "id": "9371c081"
   },
   "outputs": [
    {
     "data": {
      "text/plain": [
       "{'India': 'Delhi', 'USA': 'Washington DC', 'UK': 'London'}"
      ]
     },
     "execution_count": 5,
     "metadata": {},
     "output_type": "execute_result"
    }
   ],
   "source": [
    "countires_capital"
   ]
  },
  {
   "cell_type": "code",
   "execution_count": 6,
   "id": "b9892dbf",
   "metadata": {
    "id": "b9892dbf"
   },
   "outputs": [
    {
     "data": {
      "text/plain": [
       "True"
      ]
     },
     "execution_count": 6,
     "metadata": {},
     "output_type": "execute_result"
    }
   ],
   "source": [
    "'India' in countires_capital"
   ]
  },
  {
   "cell_type": "code",
   "execution_count": 7,
   "id": "90321dfa",
   "metadata": {
    "id": "90321dfa"
   },
   "outputs": [
    {
     "data": {
      "text/plain": [
       "False"
      ]
     },
     "execution_count": 7,
     "metadata": {},
     "output_type": "execute_result"
    }
   ],
   "source": [
    "'Indiaa' in countires_capital"
   ]
  },
  {
   "cell_type": "code",
   "execution_count": 8,
   "id": "02c13fad",
   "metadata": {
    "id": "02c13fad"
   },
   "outputs": [
    {
     "data": {
      "text/plain": [
       "{'Employee_Name': 'Rohit', 'Salary': 50000, 'Company': 'Capgemini'}"
      ]
     },
     "execution_count": 8,
     "metadata": {},
     "output_type": "execute_result"
    }
   ],
   "source": [
    "employee_data = {'Employee_Name' : 'Rohit',\n",
    "                'Salary' : 50000,\n",
    "                'Company' :'Capgemini'}\n",
    "employee_data"
   ]
  },
  {
   "cell_type": "code",
   "execution_count": 9,
   "id": "f87c225a",
   "metadata": {
    "id": "f87c225a"
   },
   "outputs": [
    {
     "data": {
      "text/plain": [
       "[1, 2, 3, 5]"
      ]
     },
     "execution_count": 9,
     "metadata": {},
     "output_type": "execute_result"
    }
   ],
   "source": [
    "list1 = [1,2,34,5]\n",
    "list1[2] = 3\n",
    "list1"
   ]
  },
  {
   "cell_type": "code",
   "execution_count": null,
   "id": "e21d3509",
   "metadata": {
    "id": "e21d3509"
   },
   "outputs": [],
   "source": [
    "employee_data = {'Employee_Name' : 'Rohit',\n",
    "                'Salary' : 50000,\n",
    "                'Company' :'Capgemini'}\n",
    "employee_data"
   ]
  },
  {
   "cell_type": "code",
   "execution_count": 10,
   "id": "06a16dcc",
   "metadata": {
    "id": "06a16dcc"
   },
   "outputs": [
    {
     "name": "stdout",
     "output_type": "stream",
     "text": [
      "Employee data is :\n",
      " {'Employee_Name': 'Rohit', 'Salary': 60000, 'Company': 'Capgemini'}\n"
     ]
    }
   ],
   "source": [
    "employee_data['Salary'] = 60000\n",
    "print('Employee data is :\\n', employee_data)"
   ]
  },
  {
   "cell_type": "code",
   "execution_count": 11,
   "id": "ccf9aeb0",
   "metadata": {
    "id": "ccf9aeb0"
   },
   "outputs": [
    {
     "data": {
      "text/plain": [
       "'Capgemini'"
      ]
     },
     "execution_count": 11,
     "metadata": {},
     "output_type": "execute_result"
    }
   ],
   "source": [
    "employee_data = {'Employee_Name' : 'Rohit',\n",
    "                'Salary' : 50000,\n",
    "                'Company' :'Capgemini'}\n",
    "employee_data['Company']"
   ]
  },
  {
   "cell_type": "code",
   "execution_count": 12,
   "id": "4c3d8284",
   "metadata": {
    "id": "4c3d8284"
   },
   "outputs": [
    {
     "name": "stdout",
     "output_type": "stream",
     "text": [
      "Updated employee data is :\n",
      " {'Employee_Name': 'Rohit', 'Salary': 50000, 'Company': 'Wipro'}\n"
     ]
    }
   ],
   "source": [
    "employee_data['Company'] = 'Wipro'\n",
    "print('Updated employee data is :\\n', employee_data)"
   ]
  },
  {
   "cell_type": "markdown",
   "id": "105db193",
   "metadata": {
    "id": "105db193"
   },
   "source": [
    "# 2. update()"
   ]
  },
  {
   "cell_type": "code",
   "execution_count": null,
   "id": "ac55ad61",
   "metadata": {
    "id": "ac55ad61",
    "outputId": "1bfe4eea-b14c-4acb-e5f8-63966d332eef"
   },
   "outputs": [
    {
     "data": {
      "text/plain": [
       "{'Employee_Name': 'Rohit', 'Salary': 60000, 'Company': 'Wipro'}"
      ]
     },
     "execution_count": 39,
     "metadata": {},
     "output_type": "execute_result"
    }
   ],
   "source": [
    "employee_data = {'Employee_Name' : 'Rohit',\n",
    "                'Salary' : 50000,\n",
    "                'Company' :'Capgemini'}\n",
    "employee_data.update({'Salary':60000,'Company':'Wipro'})\n",
    "employee_data"
   ]
  },
  {
   "cell_type": "code",
   "execution_count": null,
   "id": "05a596de",
   "metadata": {
    "id": "05a596de",
    "outputId": "a99553e6-547d-491c-da8d-a0e0c782d4e2"
   },
   "outputs": [
    {
     "data": {
      "text/plain": [
       "{'Employee_Name': 'Rohit',\n",
       " 'Salary': 60000,\n",
       " 'Company': 'Wipro',\n",
       " 'Location': 'Pune'}"
      ]
     },
     "execution_count": 40,
     "metadata": {},
     "output_type": "execute_result"
    }
   ],
   "source": [
    "employee_data = {'Employee_Name' : 'Rohit',\n",
    "                'Salary' : 50000,\n",
    "                'Company' :'Capgemini'}\n",
    "employee_data.update({'Salary':60000,'Company':'Wipro','Location' :'Pune'})\n",
    "employee_data"
   ]
  },
  {
   "cell_type": "code",
   "execution_count": null,
   "id": "c02b657d",
   "metadata": {
    "id": "c02b657d",
    "outputId": "7e5f8a6f-a07b-4a07-8067-8bd7253e3461"
   },
   "outputs": [
    {
     "data": {
      "text/plain": [
       "{'Employee_Name': 'Rohit',\n",
       " 'Salary': 50000,\n",
       " 'Company': 'Capgemini',\n",
       " 'Location': 'Mumbai'}"
      ]
     },
     "execution_count": 41,
     "metadata": {},
     "output_type": "execute_result"
    }
   ],
   "source": [
    "employee_data = {'Employee_Name' : 'Rohit',\n",
    "                'Salary' : 50000,\n",
    "                'Company' :'Capgemini'}\n",
    "\n",
    "new_dict = {'Location':'Mumbai'}\n",
    "employee_data.update(new_dict)\n",
    "employee_data"
   ]
  },
  {
   "cell_type": "code",
   "execution_count": null,
   "id": "8c292520",
   "metadata": {
    "id": "8c292520",
    "outputId": "490dff05-c0aa-4916-de6d-7bc4693886d9"
   },
   "outputs": [
    {
     "data": {
      "text/plain": [
       "{'Employee_Name': 'Rohit',\n",
       " 'Salary': 50000,\n",
       " 'Company': 'Capgemini',\n",
       " 'Location': 'Mumbai',\n",
       " 'Age': 30}"
      ]
     },
     "execution_count": 42,
     "metadata": {},
     "output_type": "execute_result"
    }
   ],
   "source": [
    "employee_data['Age'] = 30 \n",
    "employee_data"
   ]
  },
  {
   "cell_type": "markdown",
   "id": "caf6f63f",
   "metadata": {
    "id": "caf6f63f"
   },
   "source": [
    "# Remove items from dict"
   ]
  },
  {
   "cell_type": "markdown",
   "id": "fee4f9b2",
   "metadata": {
    "id": "fee4f9b2"
   },
   "source": [
    "# 1. pop()"
   ]
  },
  {
   "cell_type": "raw",
   "id": "b7411d7a",
   "metadata": {
    "id": "b7411d7a"
   },
   "source": [
    "Delete item with specific key name "
   ]
  },
  {
   "cell_type": "code",
   "execution_count": 13,
   "id": "91649889",
   "metadata": {
    "id": "91649889",
    "outputId": "8bc0532a-da40-4172-c459-16af96ededf1"
   },
   "outputs": [
    {
     "data": {
      "text/plain": [
       "{'Employee_Name': 'Rohit',\n",
       " 'Salary': 50000,\n",
       " 'Company': 'Capgemini',\n",
       " 'Location': 'Mumbai'}"
      ]
     },
     "execution_count": 13,
     "metadata": {},
     "output_type": "execute_result"
    }
   ],
   "source": [
    "employee_data = {'Employee_Name': 'Rohit',\n",
    " 'Salary': 50000,\n",
    " 'Company': 'Capgemini',\n",
    " 'Location': 'Mumbai',\n",
    " 'Age': 30}\n",
    "employee_data.pop('Age')\n",
    "employee_data"
   ]
  },
  {
   "cell_type": "code",
   "execution_count": null,
   "id": "27f1748f",
   "metadata": {
    "id": "27f1748f",
    "outputId": "5e19f5dd-903c-404e-d21f-50b804c5f9f3"
   },
   "outputs": [
    {
     "data": {
      "text/plain": [
       "{'Employee_Name': 'Rohit',\n",
       " 'Company': 'Capgemini',\n",
       " 'Location': 'Mumbai',\n",
       " 'Age': 30}"
      ]
     },
     "execution_count": 44,
     "metadata": {},
     "output_type": "execute_result"
    }
   ],
   "source": [
    "employee_data = {'Employee_Name': 'Rohit',\n",
    " 'Salary': 50000,\n",
    " 'Company': 'Capgemini',\n",
    " 'Location': 'Mumbai',\n",
    " 'Age': 30}\n",
    "employee_data.pop('Salary')\n",
    "employee_data"
   ]
  },
  {
   "cell_type": "markdown",
   "id": "81b44013",
   "metadata": {
    "id": "81b44013"
   },
   "source": [
    "# 2. popitem()"
   ]
  },
  {
   "cell_type": "raw",
   "id": "e669c9ec",
   "metadata": {
    "id": "e669c9ec"
   },
   "source": [
    "1. Delete last inserted items"
   ]
  },
  {
   "cell_type": "code",
   "execution_count": null,
   "id": "a21fb6a1",
   "metadata": {
    "id": "a21fb6a1",
    "outputId": "c3e9f64e-5a70-418c-9107-30b93f14e8c5"
   },
   "outputs": [
    {
     "data": {
      "text/plain": [
       "{'Employee_Name': 'Rohit',\n",
       " 'Salary': 50000,\n",
       " 'Company': 'Capgemini',\n",
       " 'Location': 'Mumbai'}"
      ]
     },
     "execution_count": 45,
     "metadata": {},
     "output_type": "execute_result"
    }
   ],
   "source": [
    "employee_data = {'Employee_Name': 'Rohit',\n",
    " 'Salary': 50000,\n",
    " 'Company': 'Capgemini',\n",
    " 'Location': 'Mumbai',\n",
    " 'Age': 30}\n",
    "employee_data.popitem()\n",
    "employee_data"
   ]
  },
  {
   "cell_type": "markdown",
   "id": "ce8471d1",
   "metadata": {
    "id": "ce8471d1"
   },
   "source": [
    "# 3. clear()"
   ]
  },
  {
   "cell_type": "code",
   "execution_count": null,
   "id": "86941f3b",
   "metadata": {
    "id": "86941f3b",
    "outputId": "47a3fc7a-fee8-4b50-ac7f-0436bd842526"
   },
   "outputs": [
    {
     "data": {
      "text/plain": [
       "{}"
      ]
     },
     "execution_count": 46,
     "metadata": {},
     "output_type": "execute_result"
    }
   ],
   "source": [
    "employee_data = {'Employee_Name': 'Rohit',\n",
    " 'Salary': 50000,\n",
    " 'Company': 'Capgemini',\n",
    " 'Location': 'Mumbai',\n",
    " 'Age': 30}\n",
    "employee_data.clear()\n",
    "employee_data"
   ]
  },
  {
   "cell_type": "markdown",
   "id": "61685a8a",
   "metadata": {
    "id": "61685a8a"
   },
   "source": [
    "# 4. del()"
   ]
  },
  {
   "cell_type": "code",
   "execution_count": null,
   "id": "8eb18fae",
   "metadata": {
    "id": "8eb18fae",
    "outputId": "e5a4d6ff-739f-48db-b961-79013151c502"
   },
   "outputs": [
    {
     "name": "stdout",
     "output_type": "stream",
     "text": [
      "{'Employee_Name': 'Rohit', 'Salary': 50000, 'Location': 'Mumbai', 'Age': 30}\n"
     ]
    }
   ],
   "source": [
    "employee_data = {'Employee_Name': 'Rohit',\n",
    " 'Salary': 50000,\n",
    " 'Company': 'Capgemini',\n",
    " 'Location': 'Mumbai',\n",
    " 'Age': 30}\n",
    "\n",
    "del employee_data['Company']\n",
    "print(employee_data)"
   ]
  },
  {
   "cell_type": "code",
   "execution_count": null,
   "id": "f3a65b43",
   "metadata": {
    "id": "f3a65b43",
    "outputId": "0e7a1dc1-ce5f-4ded-ef99-c5c87f1b77d5"
   },
   "outputs": [
    {
     "name": "stdout",
     "output_type": "stream",
     "text": [
      "{'Employee_Name': 'Rohit', 'Salary': 50000, 'Company': 'Capgemini', 'Age': 30}\n"
     ]
    }
   ],
   "source": [
    "employee_data = {'Employee_Name': 'Rohit',\n",
    " 'Salary': 50000,\n",
    " 'Company': 'Capgemini',\n",
    " 'Location': 'Mumbai',\n",
    " 'Age': 30}\n",
    "\n",
    "del employee_data['Location']\n",
    "print(employee_data)"
   ]
  },
  {
   "cell_type": "code",
   "execution_count": null,
   "id": "141c1efe",
   "metadata": {
    "id": "141c1efe"
   },
   "outputs": [],
   "source": [
    "employee_data = {'Employee_Name': 'Rohit',\n",
    " 'Salary': 50000,\n",
    " 'Company': 'Capgemini',\n",
    " 'Location': 'Mumbai',\n",
    " 'Age': 30}\n",
    "\n",
    "del employee_data\n",
    "# print(employee_data)"
   ]
  },
  {
   "cell_type": "markdown",
   "id": "d8f6e1b3",
   "metadata": {
    "id": "d8f6e1b3"
   },
   "source": [
    "# Nested Dictionaries"
   ]
  },
  {
   "cell_type": "code",
   "execution_count": 14,
   "id": "7c3e931a",
   "metadata": {
    "id": "7c3e931a",
    "outputId": "f53ac701-0f86-49a4-f229-cc98406abab2"
   },
   "outputs": [
    {
     "name": "stdout",
     "output_type": "stream",
     "text": [
      "{'ID0001': {'Name': 'Rohan', 'salary': 50000, 'experience': '2 years', 'Location': 'Pune', 'Designation': 'Data Scientist'}, 'ID0002': {'Name': 'Mahesh', 'salary': 60000, 'experience': '3 years', 'Location': 'Mumbai', 'Designation': 'Machine Learning Engineer'}, 'ID0003': {'Name': 'Prakash', 'salary': 70000, 'experience': '3 years', 'Location': 'Bangalore', 'Designation': 'Data Engineer'}}\n"
     ]
    },
    {
     "data": {
      "text/plain": [
       "3"
      ]
     },
     "execution_count": 14,
     "metadata": {},
     "output_type": "execute_result"
    }
   ],
   "source": [
    "emp_details = {'ID0001' :{'Name':'Rohan',\n",
    "                         'salary':50000,\n",
    "                         'experience':'2 years',\n",
    "                         'Location':'Pune',\n",
    "                         'Designation':'Data Scientist'},\n",
    "               \n",
    "              'ID0002' :{'Name':'Mahesh',\n",
    "                         'salary':60000,\n",
    "                         'experience':'3 years',\n",
    "                         'Location':'Mumbai',\n",
    "                         'Designation':'Machine Learning Engineer'},\n",
    "               \n",
    "              'ID0003' :{'Name':'Prakash',\n",
    "                         'salary':70000,\n",
    "                         'experience':'3 years',\n",
    "                         'Location':'Bangalore',\n",
    "                         'Designation':'Data Engineer'}}\n",
    "\n",
    "print(emp_details)\n",
    "len(emp_details)"
   ]
  },
  {
   "cell_type": "code",
   "execution_count": null,
   "id": "66587cdf",
   "metadata": {
    "id": "66587cdf",
    "outputId": "78203319-4f68-4e41-f345-0cba0ef2232a"
   },
   "outputs": [
    {
     "data": {
      "text/plain": [
       "dict"
      ]
     },
     "execution_count": 55,
     "metadata": {},
     "output_type": "execute_result"
    }
   ],
   "source": [
    "type(emp_details['ID0003'])"
   ]
  },
  {
   "cell_type": "code",
   "execution_count": null,
   "id": "9db3586a",
   "metadata": {
    "id": "9db3586a",
    "outputId": "ad07f595-5989-40a5-97fa-084d8da30b1e"
   },
   "outputs": [
    {
     "data": {
      "text/plain": [
       "{'Name': 'Prakash',\n",
       " 'salary': 70000,\n",
       " 'experience': '3 years',\n",
       " 'Location': 'Bangalore',\n",
       " 'Designation': 'Data Engineer'}"
      ]
     },
     "execution_count": 56,
     "metadata": {},
     "output_type": "execute_result"
    }
   ],
   "source": [
    " emp_details['ID0003']"
   ]
  },
  {
   "cell_type": "code",
   "execution_count": null,
   "id": "e028754e",
   "metadata": {
    "id": "e028754e",
    "outputId": "11c18cff-3f5a-4818-b285-ef5086799771"
   },
   "outputs": [
    {
     "data": {
      "text/plain": [
       "5"
      ]
     },
     "execution_count": 61,
     "metadata": {},
     "output_type": "execute_result"
    }
   ],
   "source": [
    "len(emp_details['ID0003'])"
   ]
  },
  {
   "cell_type": "markdown",
   "id": "ca17988e",
   "metadata": {
    "id": "ca17988e"
   },
   "source": [
    "# for loop in dict"
   ]
  },
  {
   "cell_type": "code",
   "execution_count": null,
   "id": "45d809f2",
   "metadata": {
    "id": "45d809f2"
   },
   "outputs": [],
   "source": [
    "sub_names = ['Phy','Che','Math','Bio']\n",
    "Marks = [90,85,88,92]\n",
    "\n",
    "\n",
    "# sub_marks = {'Phy' : 90,'Che' : 85, 'Math' : 88, 'Bio' : 92}"
   ]
  },
  {
   "cell_type": "code",
   "execution_count": null,
   "id": "3e300cbe",
   "metadata": {
    "id": "3e300cbe",
    "outputId": "da1b92ba-44e5-456d-d2f8-212ab715d94d"
   },
   "outputs": [
    {
     "name": "stdout",
     "output_type": "stream",
     "text": [
      "{'Phy': 90, 'Che': 85, 'Math': 88, 'Bio': 92}\n"
     ]
    }
   ],
   "source": [
    "sub_names = ['Phy','Che','Math','Bio']\n",
    "Marks = [90,85,88,92]\n",
    "d = {}\n",
    "for i in range(len(sub_names)):\n",
    "    d[sub_names[i]]= Marks[i]\n",
    "print(d)    "
   ]
  },
  {
   "cell_type": "code",
   "execution_count": null,
   "id": "5f944130",
   "metadata": {
    "id": "5f944130",
    "outputId": "9c768395-1ce1-4355-db9f-f1427bd0214c"
   },
   "outputs": [
    {
     "data": {
      "text/plain": [
       "{'Phy': 90, 'Che': 85, 'Math': 88, 'Bio': 92}"
      ]
     },
     "execution_count": 64,
     "metadata": {},
     "output_type": "execute_result"
    }
   ],
   "source": [
    "sub_names = ['Phy','Che','Math','Bio']\n",
    "Marks = [90,85,88,92]\n",
    "\n",
    "result = {}\n",
    "\n",
    "for index,sub_name in enumerate(sub_names):\n",
    "    result[sub_name] = Marks[index]\n",
    "result   "
   ]
  },
  {
   "cell_type": "code",
   "execution_count": null,
   "id": "6a80bbc4",
   "metadata": {
    "id": "6a80bbc4",
    "outputId": "313d9c79-f829-49ed-b709-721dbaf20e2f"
   },
   "outputs": [
    {
     "data": {
      "text/plain": [
       "{'Phy': 90, 'Che': 85, 'Math': 88, 'Bio': 92}"
      ]
     },
     "execution_count": 65,
     "metadata": {},
     "output_type": "execute_result"
    }
   ],
   "source": [
    "sub_names = ['Phy','Che','Math','Bio']\n",
    "Marks = [90,85,88,92]\n",
    "\n",
    "result = {}\n",
    "count = 0\n",
    "for sub_name in sub_names:\n",
    "    result[sub_name] = Marks[count]\n",
    "    count += 1\n",
    "    \n",
    "result"
   ]
  },
  {
   "cell_type": "code",
   "execution_count": null,
   "id": "bce73475",
   "metadata": {
    "id": "bce73475",
    "outputId": "51fe227b-1bb9-42e2-b9c4-590e57278363"
   },
   "outputs": [
    {
     "name": "stdout",
     "output_type": "stream",
     "text": [
      "{1: 1, 2: 4, 3: 9, 4: 16, 5: 25, 6: 36, 7: 49, 8: 64, 9: 81, 10: 100}\n"
     ]
    }
   ],
   "source": [
    "a={}\n",
    "for i in range(1,10+1):\n",
    "    a[i] = i**2\n",
    "    \n",
    "print(a)"
   ]
  },
  {
   "cell_type": "code",
   "execution_count": null,
   "id": "08333ccf",
   "metadata": {
    "id": "08333ccf",
    "outputId": "9a0883df-dd8d-41c2-8612-756a3bd113c5"
   },
   "outputs": [
    {
     "name": "stdout",
     "output_type": "stream",
     "text": [
      "{1: 1, 2: 4, 3: 9, 4: 16, 5: 25, 6: 36, 7: 49, 8: 64, 9: 81, 10: 100}\n"
     ]
    }
   ],
   "source": [
    "d = {}\n",
    "for i in range(1,11):\n",
    "    d[i]= i**2\n",
    "print(d)"
   ]
  },
  {
   "cell_type": "code",
   "execution_count": null,
   "id": "39edf2f5",
   "metadata": {
    "id": "39edf2f5"
   },
   "outputs": [],
   "source": [
    "String = 'We are learning python and data science and Machine Learning Data Science'"
   ]
  },
  {
   "cell_type": "code",
   "execution_count": null,
   "id": "9247258d",
   "metadata": {
    "id": "9247258d",
    "outputId": "a8cf8d8e-d29b-4474-aa37-349fb0e77c82"
   },
   "outputs": [
    {
     "data": {
      "text/plain": [
       "{'we': 1,\n",
       " 'are': 1,\n",
       " 'learning': 2,\n",
       " 'python': 1,\n",
       " 'and': 2,\n",
       " 'data': 2,\n",
       " 'science': 2,\n",
       " 'machine': 1}"
      ]
     },
     "execution_count": 71,
     "metadata": {},
     "output_type": "execute_result"
    }
   ],
   "source": [
    "string1= 'We are learning python and data science and Machine Learning Data Science'.lower().split()\n",
    "dict1={}\n",
    "for i in string1:\n",
    "    dict1[i]=string1.count(i)\n",
    "dict1"
   ]
  },
  {
   "cell_type": "code",
   "execution_count": null,
   "id": "9c065c2b",
   "metadata": {
    "id": "9c065c2b",
    "outputId": "27bca04f-961c-4419-ce1f-7e42d0dd8c9b"
   },
   "outputs": [
    {
     "data": {
      "text/plain": [
       "{'we': 1,\n",
       " 'are': 1,\n",
       " 'learning': 2,\n",
       " 'python': 1,\n",
       " 'and': 2,\n",
       " 'data': 2,\n",
       " 'science': 2,\n",
       " 'machine': 1}"
      ]
     },
     "execution_count": 72,
     "metadata": {},
     "output_type": "execute_result"
    }
   ],
   "source": [
    "String = 'We are learning python and data science and Machine Learning Data Science'\n",
    "\n",
    "result = {}\n",
    "\n",
    "string = String.lower()\n",
    "\n",
    "for word in string.split():\n",
    "    result[word] = string.count(word)\n",
    "    \n",
    "result"
   ]
  },
  {
   "cell_type": "code",
   "execution_count": null,
   "id": "2e486a4a",
   "metadata": {
    "id": "2e486a4a"
   },
   "outputs": [],
   "source": []
  }
 ],
 "metadata": {
  "colab": {
   "name": "Copy of Dictionary.ipynb",
   "provenance": []
  },
  "kernelspec": {
   "display_name": "Python 3 (ipykernel)",
   "language": "python",
   "name": "python3"
  },
  "language_info": {
   "codemirror_mode": {
    "name": "ipython",
    "version": 3
   },
   "file_extension": ".py",
   "mimetype": "text/x-python",
   "name": "python",
   "nbconvert_exporter": "python",
   "pygments_lexer": "ipython3",
   "version": "3.9.12"
  }
 },
 "nbformat": 4,
 "nbformat_minor": 5
}
