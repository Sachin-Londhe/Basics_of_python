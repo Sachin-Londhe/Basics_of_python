{
 "cells": [
  {
   "cell_type": "raw",
   "id": "53fa65f2",
   "metadata": {},
   "source": [
    "Q.1)  What is a List?\n",
    "\n",
    "Ans - A list is a data structure in Python that is a mutable, or changeable, ordered \n",
    "      sequence of elements.lists are defined by having values between square brackets [ ].\n",
    "      "
   ]
  },
  {
   "cell_type": "raw",
   "id": "2869c336",
   "metadata": {},
   "source": [
    "Q.2) What is a Tuple?\n",
    "\n",
    "Ans - A tuple is a collection of objects which ordered and immutable. Tuples are sequences, just like \n",
    "      lists. The differences between tuples and lists are, the tuples cannot be changed unlike lists       and tuples use parentheses, whereas lists use square brackets."
   ]
  },
  {
   "cell_type": "raw",
   "id": "fb4355bb",
   "metadata": {},
   "source": [
    "Q.3) What is the difference between List and Tuple?\n",
    "\n",
    "Ans - The key difference between the tuples and lists is that while the tuples are immutable objects       the lists are mutable. This means that tuples cannot be changed while the list can be modified.    "
   ]
  },
  {
   "cell_type": "code",
   "execution_count": null,
   "id": "3d9588a7",
   "metadata": {},
   "outputs": [],
   "source": [
    "# Q.4) Python Program to find the largest element in the list.\n",
    "\n",
    "list1 = [123,33,345,45,678,584,230,987,123]\n",
    "largest = 0\n",
    "\n",
    "for i in list1:\n",
    "    if i > largest:\n",
    "        largest = i\n",
    "print(largest)"
   ]
  },
  {
   "cell_type": "code",
   "execution_count": null,
   "id": "fd6073bf",
   "metadata": {},
   "outputs": [],
   "source": [
    "# Q.5) Python program to interchange first and last elements in a list.\n",
    "\n",
    "l1 = [21,45,5,45,523,33,12]\n",
    "l1[0],l1[-1] = l1[-1],l1[0]\n",
    "print(l1)"
   ]
  },
  {
   "cell_type": "code",
   "execution_count": null,
   "id": "1918f75b",
   "metadata": {},
   "outputs": [],
   "source": [
    "# Q.6) Python program to swap two elements in a list.\n",
    "\n",
    "list1 = [12,23,45,67,89,13]\n",
    "index1 = int(input(\"Enter first index :\"))\n",
    "index2 = int(input(\"Enter second index :\"))\n",
    "\n",
    "list1[index1],list1[index2] = list1[index2],list1[index1]\n",
    "\n",
    "print(list1)"
   ]
  },
  {
   "cell_type": "code",
   "execution_count": null,
   "id": "934c5651",
   "metadata": {},
   "outputs": [],
   "source": [
    "# Q.7) Python program to Reverse a List\n",
    "\n",
    "l1 = [12,333,455,566,677,788]\n",
    "l2 = l1[::-1]\n",
    "l2"
   ]
  },
  {
   "cell_type": "code",
   "execution_count": 2,
   "id": "b0f86953",
   "metadata": {},
   "outputs": [
    {
     "name": "stdout",
     "output_type": "stream",
     "text": [
      "count of 12 is 3\n",
      "count of 23 is 4\n",
      "count of 21 is 2\n",
      "count of 17 is 2\n"
     ]
    }
   ],
   "source": [
    "# Q.8) Python program to count occurrences of an element in a list\n",
    "\n",
    "list1 = [12,23,21,12,23,23,23,21,17,12,17]\n",
    "list2 = []\n",
    "for i in list1:\n",
    "    if i not in list2:\n",
    "        count1 = list1.count(i)\n",
    "        print(f\"count of {i} is {count1}\")\n",
    "\n",
    "    list2.append(i)\n",
    "    "
   ]
  },
  {
   "cell_type": "code",
   "execution_count": null,
   "id": "8b1e107f",
   "metadata": {},
   "outputs": [],
   "source": [
    "# Q.9 Python program to find the sum of elements in a list.\n",
    "\n",
    "l1 = [48,12,23,45,56,78]\n",
    "addition = 0\n",
    "for i in l1:\n",
    "    addition = addition + i\n",
    "print(\"Sum of element in a list :\",addition)\n",
    "    "
   ]
  },
  {
   "cell_type": "code",
   "execution_count": null,
   "id": "79e4662d",
   "metadata": {},
   "outputs": [],
   "source": [
    "# Q.10 Python program to Multiply all numbers in the list\n",
    "\n",
    "l1 = [10,12,13,23,2]\n",
    "\n",
    "multi = 1\n",
    "for i in l1:\n",
    "    multi = multi * i\n",
    "print(\"Multiplication of list is\",multi)"
   ]
  },
  {
   "cell_type": "code",
   "execution_count": null,
   "id": "f9b727b1",
   "metadata": {},
   "outputs": [],
   "source": [
    "# Q.11 What are the ways to find the length of a list\n",
    "\n",
    "# We can find length of list by using len function\n",
    "l1 = [12,134,141,424,4,34]\n",
    "print(len(l1))"
   ]
  },
  {
   "cell_type": "code",
   "execution_count": null,
   "id": "c5db1345",
   "metadata": {},
   "outputs": [],
   "source": [
    "# by using for loop\n",
    "length = 0\n",
    "for i in l1:\n",
    "    length += 1\n",
    "print(length)\n",
    "    "
   ]
  },
  {
   "cell_type": "code",
   "execution_count": null,
   "id": "8cddcf9f",
   "metadata": {},
   "outputs": [],
   "source": [
    "# Q.12 Python program to find the smallest and largest number in a list (Without min-max function)\n",
    "\n",
    "l1 = [234,223,3453,33456452,235127,354234,3245,4344]\n",
    "\n",
    "minimum = l1[0]\n",
    "maximum = 0\n",
    "\n",
    "for i in l1:\n",
    "    if i > maximum:\n",
    "        maximum = i\n",
    "print(\"maximum number in list :\",maximum)\n",
    "\n",
    "\n",
    "for i in l1:\n",
    "    if i < minimum:\n",
    "        minimum = i\n",
    "print(\"minimum number in list :\",minimum)\n",
    "\n"
   ]
  },
  {
   "cell_type": "code",
   "execution_count": null,
   "id": "01905c92",
   "metadata": {},
   "outputs": [],
   "source": [
    "l1 = [234,223,345323,33456452,235127,354234,3245,4344]\n",
    "l1.sort()\n",
    "print(\"maximum number is :\",l1[-1])\n",
    "print(\"minimum number is :\",l1[0])"
   ]
  },
  {
   "cell_type": "code",
   "execution_count": null,
   "id": "7eb5f105",
   "metadata": {},
   "outputs": [],
   "source": [
    "# Q.13 Python Program to find the area of a circle\n",
    "\n",
    "R=float(input('Radius of Circle ='))\n",
    "A=(22/7)*R**2 \n",
    "print('Area of Circle =',A) \n"
   ]
  },
  {
   "cell_type": "code",
   "execution_count": null,
   "id": "009140c7",
   "metadata": {},
   "outputs": [],
   "source": [
    "\"\"\" Q. 14 Take inputs from the user to make a list. Again take one input from the user\n",
    "and search it in the list and delete that element, if found. Iterate over a list\n",
    "using for loop.\"\"\"\n",
    "list1 = []\n",
    "length_list = int(input(\"Enter number of elements in list :\"))\n",
    "\n",
    "for i in range(length_list):\n",
    "        element = input()\n",
    "        list1.append(element)\n",
    "print(list1)\n",
    "\n",
    "no = input(\"enter element :\")\n",
    "for i in list1:\n",
    "    if i == no:\n",
    "        list1.remove(no)\n",
    "# if no in list1:\n",
    "#     list1.remove(no)\n",
    "list1"
   ]
  },
  {
   "cell_type": "code",
   "execution_count": null,
   "id": "e2f836b6",
   "metadata": {},
   "outputs": [],
   "source": [
    "\"\"\" Q.15 You are given a list of integer elements. Make a new list that will store a\n",
    "square of elements of the previous list. (With and without list comprehension)\n",
    "i. Input_list = [2,5,6,12]\n",
    "ii. Output_list = [4,25,36,144] \"\"\"\n",
    "\n",
    "l1 = [12,15,17,10,20]\n",
    "l2 = []\n",
    "\n",
    "for i in l1:\n",
    "    square = i*i\n",
    "    l2.append(square)\n",
    "print(l2)"
   ]
  },
  {
   "cell_type": "code",
   "execution_count": null,
   "id": "a2dd3cbe",
   "metadata": {},
   "outputs": [],
   "source": [
    "\"\"\" Q.16 WAP to create two lists, one containing all even numbers and the other\n",
    "containing all odd numbers between 0 to 151\"\"\"\n",
    "\n",
    "range_start_from = int(input(\"numbers from :\"))\n",
    "range_ends_on = int(input(\"numbers upto :\"))\n",
    "even_numbers = []\n",
    "odd_numbers = []\n",
    "\n",
    "for i in range(range_start_from,(range_ends_on)+1):\n",
    "    if i%2==0:\n",
    "        even_numbers.append(i)\n",
    "    else:\n",
    "        odd_numbers.append(i)\n",
    "print(even_numbers)\n",
    "print(odd_numbers)\n"
   ]
  },
  {
   "cell_type": "code",
   "execution_count": null,
   "id": "e87792c4",
   "metadata": {},
   "outputs": [],
   "source": [
    " \"\"\"Q. 17 Python program to Count Even and Odd numbers in a List \"\"\"\n",
    " \n",
    "list = [123,32,4234,232,3434,23,544,3459]\n",
    "\n",
    "even_count = 0\n",
    "odd_count = 0\n",
    "\n",
    "for i in list:\n",
    "    if i%2==0:\n",
    "        even_count += 1\n",
    "    else:\n",
    "        odd_count += 1\n",
    "        \n",
    "print(\"Count of even numbers in list\",even_count)\n",
    "print(\"Count of odd numbers in list\",odd_count)"
   ]
  },
  {
   "cell_type": "code",
   "execution_count": null,
   "id": "86f72a9b",
   "metadata": {},
   "outputs": [],
   "source": [
    "\"\"\"Q. 18 WAP to make new lists, containing only numbers which are divisible by 4, 6,\n",
    "8, 10, 3, 5, 7, and 9 in separate lists for range(0,151)\"\"\"\n",
    "\n",
    "divided_by_4 = [ i for i in range(1,151) if i%4==0]\n",
    "print(\"Numbers divided by 4 : \",divided_by_4)\n",
    "\n",
    "divided_by_5 = [i for i in range(0,151) if i%5==0]\n",
    "print(\"Numbers divided by 5 : \",divided_by_5)\n",
    "\n",
    "divided_by_10= [i for i in range(0,151) if i%10==0]\n",
    "print(\"Numbers divided by 10 : \",divided_by_10)\n",
    "\n",
    "divided_by_12 = [i for i in range(0,151) if i%12==0]\n",
    "print(\"Numbers divided by 12 : \",divided_by_12)\n",
    "\n",
    "divided_by_6 = [i for i in range(0,151) if i%6==0]\n",
    "print(\"Numbers divided by 6 : \",divided_by_6)\n",
    "\n",
    "divided_by_8 = [i for i in range(0,151) if i%8==0]\n",
    "print(\"Numbers divided by 8 : \",divided_by_8)\n",
    "\n"
   ]
  },
  {
   "cell_type": "code",
   "execution_count": 3,
   "id": "b031b307",
   "metadata": {},
   "outputs": [
    {
     "name": "stdout",
     "output_type": "stream",
     "text": [
      "[12, 34, 80]\n",
      "['sa', 'ak', 'we']\n",
      "[12.32, 20.9]\n"
     ]
    }
   ],
   "source": [
    "\"\"\" Q 19. From a list containing ints, strings, and floats, make three lists to store them\n",
    "separately.\"\"\"\n",
    "\n",
    "list1 = [12,34,\"sa\",12.32,\"ak\",20.90,\"we\",80]\n",
    "integer =[i for i in list1 if type(i)==int]\n",
    "strings =[i for i in list1 if type(i)==str]\n",
    "floats  =[i for i in list1 if type(i)==float]\n",
    "\n",
    "print(integer)\n",
    "print(strings)\n",
    "print(floats)\n",
    "        "
   ]
  },
  {
   "cell_type": "raw",
   "id": "ff8cf0ce",
   "metadata": {},
   "source": [
    "Q.20 What’s The Difference Between The Python append() and extend() Methods?\"\"\"\n",
    "\n",
    "Ans - Python’s append() function inserts a single element into an existing list. The element \n",
    "      will be added to the end of the old list rather than being returned to a new list.\n",
    "      extends() function takes an argument from the iterable (strin, list, tuple, set, dict) and add \n",
    "      each elements at the end of the list. "
   ]
  },
  {
   "cell_type": "code",
   "execution_count": 3,
   "id": "4d08ed4b",
   "metadata": {},
   "outputs": [
    {
     "name": "stdout",
     "output_type": "stream",
     "text": [
      "['sa', 'ak', 'pl', 12, 14, 16, 18, 20]\n"
     ]
    }
   ],
   "source": [
    "\"\"\"Q.21 Write a Python program to append a list to the second list\"\"\"\n",
    "\n",
    "l1 = [12,14,16,18,20]\n",
    "l2 = [\"sa\",\"ak\",\"pl\"]\n",
    "\n",
    "l2.extend(l1)\n",
    "print(l2)"
   ]
  },
  {
   "cell_type": "code",
   "execution_count": 5,
   "id": "f2311497",
   "metadata": {},
   "outputs": [
    {
     "name": "stdout",
     "output_type": "stream",
     "text": [
      "Third largest number of list : 4434\n"
     ]
    }
   ],
   "source": [
    "\"\"\"Q 22. Write a Python program to find the third-largest number in a list.\"\"\"\n",
    "\n",
    "l1 = [12,1233,4434,453,234,4534,4545,323]\n",
    "\n",
    "max1 = 0\n",
    "max2 = 0\n",
    "max3 = 0\n",
    "\n",
    "for i in l1:\n",
    "    if max1 < i:\n",
    "        max1 = i\n",
    "for i in l1:\n",
    "    if max2 < i and max1 > i:\n",
    "        max2 = i\n",
    "for i in l1:\n",
    "    if max3 < i and max2 > i:\n",
    "        max3 = i\n",
    "    \n",
    "print(\"Third largest number of list :\",max3)"
   ]
  },
  {
   "cell_type": "code",
   "execution_count": 6,
   "id": "92188837",
   "metadata": {},
   "outputs": [
    {
     "name": "stdout",
     "output_type": "stream",
     "text": [
      "12  :  3 ;  23  :  2 ;  12  :  3 ;  54  :  1 ;  65  :  1 ;  23  :  2 ;  12  :  3 ;  "
     ]
    }
   ],
   "source": [
    "\"\"\"Q.23 Write a Python program to get the frequency of the elements in a list.\"\"\"\n",
    "\n",
    "l1 = [12,23,12,54,65,23,12]\n",
    "for i in l1:\n",
    "    print(i ,\" : \", l1.count(i),\"; \"   ,  end = \" \")"
   ]
  },
  {
   "cell_type": "code",
   "execution_count": 9,
   "id": "030fbad2",
   "metadata": {},
   "outputs": [
    {
     "name": "stdout",
     "output_type": "stream",
     "text": [
      "l2 is a sublist of l1\n"
     ]
    }
   ],
   "source": [
    "\"\"\"Q. 24 Write a Python program to check whether a list contains a sublist\"\"\"\n",
    "\n",
    "l1 = [12,123,34,341,45]\n",
    "l2 = [12,123]\n",
    "\n",
    "a = len(l2)\n",
    "b = 0\n",
    "\n",
    "for i in l2:\n",
    "    if i in l1:\n",
    "        b += 1\n",
    "if a == b:\n",
    "    print(\"l2 is a sublist of l1\")\n",
    "else:\n",
    "    print(\"l2 is not a sublist of l1\")\n"
   ]
  },
  {
   "cell_type": "code",
   "execution_count": 10,
   "id": "51070eb8",
   "metadata": {},
   "outputs": [
    {
     "data": {
      "text/plain": [
       "True"
      ]
     },
     "execution_count": 10,
     "metadata": {},
     "output_type": "execute_result"
    }
   ],
   "source": [
    "list1 = [12,34,53,75,68,57,87,68]\n",
    "list2 = [12,87,68,75,53]\n",
    "all(i in list1 for i in list2)"
   ]
  },
  {
   "cell_type": "code",
   "execution_count": 12,
   "id": "5878c4f1",
   "metadata": {},
   "outputs": [
    {
     "name": "stdout",
     "output_type": "stream",
     "text": [
      "Sublists of l1 are : [[], [12], [12, 23], [23], [12, 23, 32], [23, 32], [32], [12, 23, 32, 42], [23, 32, 42], [32, 42], [42], [12, 23, 32, 42, 52], [23, 32, 42, 52], [32, 42, 52], [42, 52], [52], [12, 23, 32, 42, 52, 62], [23, 32, 42, 52, 62], [32, 42, 52, 62], [42, 52, 62], [52, 62], [62]]\n"
     ]
    }
   ],
   "source": [
    "\"\"\"Q.25 Write a Python program to generate all sublists of a list\"\"\"\n",
    "\n",
    "l1 = [12,23,32,42,52,62]\n",
    "l2 = [[]]\n",
    "\n",
    "for i in range(len(l1)+1):\n",
    "    for j in range(i):\n",
    "        l2.append(l1[j:i])\n",
    "print(\"Sublists of l1 are :\",l2)"
   ]
  },
  {
   "cell_type": "code",
   "execution_count": 7,
   "id": "3d6ebfe5",
   "metadata": {},
   "outputs": [
    {
     "name": "stdout",
     "output_type": "stream",
     "text": [
      "14\n",
      "20\n",
      "[14, 20]\n"
     ]
    }
   ],
   "source": [
    "\"\"\"Q.26 Write a Python program to find common items from two lists\"\"\"\n",
    "\n",
    "l1 = [12,14,16,18,20]\n",
    "l2 = [32,14,20,11,15]\n",
    "common_items = []\n",
    "for i in l1:\n",
    "    if i in l2:\n",
    "        print(i)\n",
    "        common_items.append(i)\n",
    "print(common_items)"
   ]
  },
  {
   "cell_type": "code",
   "execution_count": 8,
   "id": "2cbc6cfa",
   "metadata": {},
   "outputs": [
    {
     "name": "stdout",
     "output_type": "stream",
     "text": [
      "[1, 2, 34, 'sa', 'ak', 'pg', 12.12, 13.21, 20.12, 3, 4]\n"
     ]
    }
   ],
   "source": [
    "\"\"\" Q.27 How to flatten a list in python? \"\"\"\n",
    "\n",
    "list1 = [[1,2,34],[\"sa\",\"ak\",\"pg\"],[12.12,13.21,20.12],12,34]\n",
    "l2 = []\n",
    "\n",
    "for i in range(len(list1)):\n",
    "    if type(list1[i]) == list:\n",
    "         for j in list1[i]:\n",
    "                l2.append(j)\n",
    "                \n",
    "    else:\n",
    "        l2.append(i)\n",
    "print(l2)    "
   ]
  },
  {
   "cell_type": "code",
   "execution_count": 13,
   "id": "1a41e81f",
   "metadata": {},
   "outputs": [
    {
     "name": "stdout",
     "output_type": "stream",
     "text": [
      "(12, 124, 13, 24, 56)\n",
      "(12, 13, 24, 56, 124)\n"
     ]
    }
   ],
   "source": [
    "\"\"\"Q. 28 How to sort a tuple?\"\"\"\n",
    "t1 = (12,124,13,24,56)\n",
    "print(t1)\n",
    "t1 = list(t1)\n",
    "t1.sort()\n",
    "t1 = tuple(t1)\n",
    "print(t1)"
   ]
  },
  {
   "cell_type": "code",
   "execution_count": null,
   "id": "20b8abb7",
   "metadata": {},
   "outputs": [],
   "source": [
    "\"\"\"Q. 29 How to sort a list in ascending and descending order without using the sort\n",
    "function?\"\"\"\n",
    "\n",
    "# descending order\n",
    "l1 = [12,28,15,22,18,10,20,24]\n",
    "l2 =[]\n",
    "count = 0\n",
    "\n",
    "for i in range(len(l1)):\n",
    "    for j in range(i+1,len(l1)):\n",
    "        if l1[i] <= l1[j]:\n",
    "            l1[i],l1[j] = l1[j],l1[i]\n",
    "l1        "
   ]
  },
  {
   "cell_type": "code",
   "execution_count": null,
   "id": "2c323579",
   "metadata": {},
   "outputs": [],
   "source": [
    "# ascending order\n",
    "for i in range(len(l1)):\n",
    "    for j in range(i+1,len(l1)):\n",
    "        if l1[i] >= l1[j]:\n",
    "            l1[i],l1[j] = l1[j],l1[i]\n",
    "l1"
   ]
  },
  {
   "cell_type": "code",
   "execution_count": 1,
   "id": "591f026f",
   "metadata": {
    "scrolled": false
   },
   "outputs": [
    {
     "name": "stdout",
     "output_type": "stream",
     "text": [
      "113350\n"
     ]
    }
   ],
   "source": [
    "\"\"\" Q.30 Write a Python program to convert a list of multiple integers into a single\n",
    "integer\n",
    "a. [11, 33, 50] >>> 113350 \"\"\"\n",
    "\n",
    "a = [11,33,50]\n",
    "b = []\n",
    "\n",
    "for i in a:\n",
    "    b.append(str(i))\n",
    "c = \"\".join(b)\n",
    "a = int(c)\n",
    "\n",
    "print(a)"
   ]
  },
  {
   "cell_type": "raw",
   "id": "0b7e1f7b",
   "metadata": {},
   "source": [
    "\n",
    "Q.31 Difference between del and clear?\n",
    "Ans :  del => We can use the del keyword to delete the individual list element or the complete list                 itself.. \n",
    "       clear => clear function is used to delete all the elements in a list.\n"
   ]
  },
  {
   "cell_type": "raw",
   "id": "89cbf6ed",
   "metadata": {},
   "source": [
    "Q.32 Difference between remove and pop?\n",
    "\n",
    "Ans : Remove => remove() is a Python list method that is used to remove a specific value from the                     list. The remove method accepts the element value as a parameter and deletes the                     first occurrence of the value from the list.\n",
    "      pop =>    By default, the pop() method is used to remove the last element from the list, but it                 also accepts an optional parameter that represents the index number that is supposed                 to pop out or delete from the list. The pop() method also returns the value that it                   popped out or deleted from the list. "
   ]
  },
  {
   "cell_type": "raw",
   "id": "00ee184b",
   "metadata": {},
   "source": [
    "Q.33  Difference between indexing and Slicing?\n",
    "Ans -  Indexing is used to obtain individual elements. Slicing: Slicing is used to obtain a sequence        of elements. "
   ]
  },
  {
   "cell_type": "raw",
   "id": "ff598732",
   "metadata": {},
   "source": [
    "Q.34  Difference between sort and sorted?\n",
    "Ans - sort() will sort the list in-place, whereas sorted() will return a new sorted list leaving the       original list unchanged. \n",
    "      Another difference is that sorted() accepts any iterable while list.  \n",
    "      sort() is a method of the list class and can only be used with lists."
   ]
  },
  {
   "cell_type": "raw",
   "id": "e560151a",
   "metadata": {},
   "source": [
    "Q.35 Difference between reverse and reversed?\n",
    "\n",
    "Ans : Reverse -Reverse command will simply reverse the list and paste it back in the place of the                    original list.\n",
    "      Reversed-this command is used as an ITERATOR. That means, if I need to run the For Loop, from                  the reverse side of the existing list.\n",
    "                \n",
    "               x for x in reversed(name)\n",
    "\n",
    "              Here, we are not reversing the list Actually, but temporarily the for loop will                       function on the reversed form of the original list i.e. name."
   ]
  },
  {
   "cell_type": "raw",
   "id": "2703614b",
   "metadata": {},
   "source": [
    "Q.36 Difference between copy and deep copy?\n",
    "Ans - The copy module is used to create the shallow copy.A shallow copy is a copy of an object \n",
    "      that stores the reference of the original elements. It creates the new collection object and \n",
    "      then occupying it with reference to the child objects found in the original.\n",
    "      A deep copy is a process where we create a new object and add copy elements recursively. We           will use the deecopy() method which present in copy module. The independent copy is created of       original object and its entire object."
   ]
  },
  {
   "cell_type": "raw",
   "id": "f23e1434",
   "metadata": {},
   "source": [
    "Q.37 How to check whether the list is empty or not?\n",
    "Ans: we can use the len() to check if a list is empty, this function returns the length of the            argument passed.if length is 0 we can say list is empty."
   ]
  },
  {
   "cell_type": "raw",
   "id": "6bb0be17",
   "metadata": {},
   "source": [
    "Q.38  How to concatenate two lists? \n",
    "\n",
    "Ans : We can use extend() function to concatenate two list."
   ]
  },
  {
   "cell_type": "raw",
   "id": "0f579407",
   "metadata": {},
   "source": [
    "Q.39  How to find the occurrences of an element in the python list?\n",
    "Ans : We can use count() function to find occurrences of an element in list."
   ]
  },
  {
   "cell_type": "code",
   "execution_count": null,
   "id": "2c2d4002",
   "metadata": {},
   "outputs": [],
   "source": [
    "#Q 40. How to flatten a list in python?\n",
    "\n",
    "l1 = [[12,123,23,23],\"we\",23,334,[213,2,23]]\n",
    "l2 = []\n",
    "\n",
    "for i in l1:\n",
    "    if type(i) == list:\n",
    "        l2.extend(i)\n",
    "    else:\n",
    "        l2.append(i)\n",
    "l2"
   ]
  },
  {
   "cell_type": "code",
   "execution_count": 2,
   "id": "b50d92c3",
   "metadata": {},
   "outputs": [
    {
     "data": {
      "text/plain": [
       "'sd sdf fdgdgdf'"
      ]
     },
     "execution_count": 2,
     "metadata": {},
     "output_type": "execute_result"
    }
   ],
   "source": [
    "a = \" sd sdf             fdgdgdf \"\n",
    "a.strip().replace(\"  \",\"\")"
   ]
  },
  {
   "cell_type": "code",
   "execution_count": 1,
   "id": "1276b204",
   "metadata": {},
   "outputs": [
    {
     "data": {
      "text/plain": [
       "True"
      ]
     },
     "execution_count": 1,
     "metadata": {},
     "output_type": "execute_result"
    }
   ],
   "source": [
    "a = \"sachin     londhe    \"\n",
    "b = \" sacHIn  londhe       \"\n",
    "\n",
    "a.lower().strip().replace(\" \",\"\") == b.lower().strip().replace(\" \",\"\")\n",
    "# print(a)\n",
    "# print(b)"
   ]
  },
  {
   "cell_type": "code",
   "execution_count": 3,
   "id": "c0da9442",
   "metadata": {},
   "outputs": [
    {
     "data": {
      "text/plain": [
       "'java is easy to learn.python is high level language.python is dynamically typed language'"
      ]
     },
     "execution_count": 3,
     "metadata": {},
     "output_type": "execute_result"
    }
   ],
   "source": [
    "a = \"python is easy to learn.python is high level language.python is dynamically typed language\"\n",
    "\n",
    "a.replace(\"python\",\"java\",1)"
   ]
  },
  {
   "cell_type": "code",
   "execution_count": 12,
   "id": "70191e89",
   "metadata": {},
   "outputs": [
    {
     "name": "stdout",
     "output_type": "stream",
     "text": [
      "pythn s sy t lrn.pythn s hgh lvl lngg.pythn s dynmclly typd lngg\n"
     ]
    }
   ],
   "source": [
    "a = \"python is easy to learn.python is high level language.python is dynamically typed language\"\n",
    "b = \"\"\n",
    "for i in a:\n",
    "    if i not in \"aeiouAEIOU\":\n",
    "        b = b + i\n",
    "print(b)"
   ]
  }
 ],
 "metadata": {
  "kernelspec": {
   "display_name": "Python 3 (ipykernel)",
   "language": "python",
   "name": "python3"
  },
  "language_info": {
   "codemirror_mode": {
    "name": "ipython",
    "version": 3
   },
   "file_extension": ".py",
   "mimetype": "text/x-python",
   "name": "python",
   "nbconvert_exporter": "python",
   "pygments_lexer": "ipython3",
   "version": "3.9.12"
  }
 },
 "nbformat": 4,
 "nbformat_minor": 5
}
