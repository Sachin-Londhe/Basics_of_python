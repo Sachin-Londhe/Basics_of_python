{
 "cells": [
  {
   "cell_type": "markdown",
   "id": "7a8d4493",
   "metadata": {
    "id": "7a8d4493"
   },
   "source": [
    "# Lambda Function"
   ]
  },
  {
   "cell_type": "raw",
   "id": "0fa54420",
   "metadata": {
    "id": "0fa54420"
   },
   "source": [
    "Lambda Function is an annonymous function\n",
    "We can define it by using lambda key word"
   ]
  },
  {
   "cell_type": "markdown",
   "id": "948572cd",
   "metadata": {
    "id": "948572cd"
   },
   "source": [
    "# Syntax of Lambda Function"
   ]
  },
  {
   "cell_type": "raw",
   "id": "eb62635f",
   "metadata": {
    "id": "eb62635f"
   },
   "source": [
    "lambda arguments : expression\n",
    "arguments : 1 or more (a,b,c)\n",
    "Expression : Only one expression\n",
    "    \n",
    "    \n",
    "lambda x,y = x + y"
   ]
  },
  {
   "cell_type": "code",
   "execution_count": null,
   "id": "62575d3b",
   "metadata": {
    "id": "62575d3b",
    "outputId": "a616b925-4ad2-4760-9164-ef8c21f1f3da"
   },
   "outputs": [
    {
     "data": {
      "text/plain": [
       "9"
      ]
     },
     "execution_count": 1,
     "metadata": {},
     "output_type": "execute_result"
    }
   ],
   "source": [
    "def Square(a):\n",
    "    return a**2\n",
    "\n",
    "Square(3)"
   ]
  },
  {
   "cell_type": "code",
   "execution_count": null,
   "id": "b2e10f05",
   "metadata": {
    "id": "b2e10f05",
    "outputId": "40e703d5-3f62-4000-cb4b-0afac8f826ea"
   },
   "outputs": [
    {
     "data": {
      "text/plain": [
       "100"
      ]
     },
     "execution_count": 2,
     "metadata": {},
     "output_type": "execute_result"
    }
   ],
   "source": [
    "Square(10)"
   ]
  },
  {
   "cell_type": "code",
   "execution_count": null,
   "id": "7ed9c5cd",
   "metadata": {
    "id": "7ed9c5cd",
    "outputId": "5f25d19a-d227-45c5-c410-a22619bf61ce"
   },
   "outputs": [
    {
     "data": {
      "text/plain": [
       "9"
      ]
     },
     "execution_count": 3,
     "metadata": {},
     "output_type": "execute_result"
    }
   ],
   "source": [
    "sqr = lambda a : a**2\n",
    "sqr(3)"
   ]
  },
  {
   "cell_type": "code",
   "execution_count": null,
   "id": "a313f527",
   "metadata": {
    "id": "a313f527",
    "outputId": "ad2a9552-25c4-4888-df9b-2b6aa37d214c"
   },
   "outputs": [
    {
     "data": {
      "text/plain": [
       "30"
      ]
     },
     "execution_count": 4,
     "metadata": {},
     "output_type": "execute_result"
    }
   ],
   "source": [
    "add = lambda x,y : x + y\n",
    "add(10,20)"
   ]
  },
  {
   "cell_type": "code",
   "execution_count": null,
   "id": "9f157b72",
   "metadata": {
    "id": "9f157b72",
    "outputId": "d7730447-a37f-44e7-958d-15443d02ff7b"
   },
   "outputs": [
    {
     "data": {
      "text/plain": [
       "200"
      ]
     },
     "execution_count": 5,
     "metadata": {},
     "output_type": "execute_result"
    }
   ],
   "source": [
    "add = lambda x,y : x * y\n",
    "add(10,20)"
   ]
  },
  {
   "cell_type": "code",
   "execution_count": null,
   "id": "3aef8dbf",
   "metadata": {
    "id": "3aef8dbf",
    "outputId": "ad22fed7-32f1-4620-b2f7-8c9166f7afd0"
   },
   "outputs": [
    {
     "data": {
      "text/plain": [
       "1.0"
      ]
     },
     "execution_count": 6,
     "metadata": {},
     "output_type": "execute_result"
    }
   ],
   "source": [
    "x = lambda a,b,c : (a+b)/c\n",
    "x(10,20,30)"
   ]
  },
  {
   "cell_type": "code",
   "execution_count": null,
   "id": "bc96595d",
   "metadata": {
    "id": "bc96595d"
   },
   "outputs": [],
   "source": [
    "list1 = [2,3,5,6,7]"
   ]
  },
  {
   "cell_type": "code",
   "execution_count": null,
   "id": "a0306292",
   "metadata": {
    "id": "a0306292",
    "outputId": "be4cf1b5-d9ad-4956-bc04-298e1bb9a177"
   },
   "outputs": [
    {
     "data": {
      "text/plain": [
       "23"
      ]
     },
     "execution_count": 7,
     "metadata": {},
     "output_type": "execute_result"
    }
   ],
   "source": [
    "list1 = [2,3,5,6,7]\n",
    "add = lambda a: sum(a)\n",
    "add(list1)"
   ]
  },
  {
   "cell_type": "code",
   "execution_count": null,
   "id": "e2306f90",
   "metadata": {
    "id": "e2306f90",
    "outputId": "52c416a9-3c01-4a69-f088-f75d9b9482b8"
   },
   "outputs": [
    {
     "name": "stdout",
     "output_type": "stream",
     "text": [
      "23\n"
     ]
    }
   ],
   "source": [
    "list1=[2,3,5,6,7]\n",
    "addition1=lambda list1:sum(list1)\n",
    "print(sum(list1))"
   ]
  },
  {
   "cell_type": "code",
   "execution_count": null,
   "id": "742ebdf9",
   "metadata": {
    "id": "742ebdf9"
   },
   "outputs": [],
   "source": [
    "largest_number(30,20)"
   ]
  },
  {
   "cell_type": "code",
   "execution_count": null,
   "id": "8e3db2e9",
   "metadata": {
    "id": "8e3db2e9",
    "outputId": "057d3868-9eb6-43e9-cc07-7877a42e6e2b"
   },
   "outputs": [
    {
     "data": {
      "text/plain": [
       "30"
      ]
     },
     "execution_count": 9,
     "metadata": {},
     "output_type": "execute_result"
    }
   ],
   "source": [
    "largest_number=lambda x,y:x if x>y else y\n",
    "largest_number(30,20)"
   ]
  },
  {
   "cell_type": "code",
   "execution_count": null,
   "id": "c8a1a27d",
   "metadata": {
    "id": "c8a1a27d",
    "outputId": "16bc6b86-0f90-438b-fc49-bd034f10fe99"
   },
   "outputs": [
    {
     "name": "stdout",
     "output_type": "stream",
     "text": [
      "30 is greater than 20\n"
     ]
    }
   ],
   "source": [
    "largest_number =lambda a,b:print(f'{a} is greater than {b}') if a>b else print(f'{a} is less than {b}')\n",
    "largest_number(30,20)"
   ]
  },
  {
   "cell_type": "code",
   "execution_count": null,
   "id": "4769702f",
   "metadata": {
    "id": "4769702f",
    "outputId": "ace94063-8a2d-42f8-e8e2-2808f7c44ec8"
   },
   "outputs": [
    {
     "name": "stdout",
     "output_type": "stream",
     "text": [
      "30 is greater\n",
      "20 is greater\n",
      "56 is greater\n"
     ]
    }
   ],
   "source": [
    "largest_number = lambda a,b : print(f'{a} is greater') if a > b else print(f'{b} is greater')\n",
    "largest_number(30,20)\n",
    "largest_number(10,20)\n",
    "largest_number(40,56)"
   ]
  },
  {
   "cell_type": "code",
   "execution_count": null,
   "id": "bab9bdd1",
   "metadata": {
    "id": "bab9bdd1",
    "outputId": "627888b6-231f-4242-8f67-146a9340bee3"
   },
   "outputs": [
    {
     "data": {
      "text/plain": [
       "9"
      ]
     },
     "execution_count": 15,
     "metadata": {},
     "output_type": "execute_result"
    }
   ],
   "source": [
    "add = lambda a,b,c = 10 : a + b + c\n",
    "add(2,3,4)"
   ]
  },
  {
   "cell_type": "code",
   "execution_count": null,
   "id": "a29d333f",
   "metadata": {
    "id": "a29d333f",
    "outputId": "a067d1f8-bf07-46ed-e4b2-04047b630657"
   },
   "outputs": [
    {
     "data": {
      "text/plain": [
       "15"
      ]
     },
     "execution_count": 16,
     "metadata": {},
     "output_type": "execute_result"
    }
   ],
   "source": [
    "add = lambda a,b,c = 10 : a + b + c\n",
    "add(2,3)"
   ]
  },
  {
   "cell_type": "code",
   "execution_count": null,
   "id": "10edc5ee",
   "metadata": {
    "id": "10edc5ee",
    "outputId": "495be8dd-a27f-4ade-c15e-56ef36980c66"
   },
   "outputs": [
    {
     "data": {
      "text/plain": [
       "62"
      ]
     },
     "execution_count": 17,
     "metadata": {},
     "output_type": "execute_result"
    }
   ],
   "source": [
    "Sum = lambda *args : sum(args)\n",
    "Sum(2,34,5,6,7,8)"
   ]
  },
  {
   "cell_type": "code",
   "execution_count": null,
   "id": "639a06d2",
   "metadata": {
    "id": "639a06d2",
    "outputId": "d1ff2dca-857d-4ed7-d758-c0045d62e143"
   },
   "outputs": [
    {
     "data": {
      "text/plain": [
       "60"
      ]
     },
     "execution_count": 18,
     "metadata": {},
     "output_type": "execute_result"
    }
   ],
   "source": [
    "x = lambda **kwargs : sum(kwargs.values())\n",
    "x(x = 10, y = 20, z = 30)"
   ]
  },
  {
   "cell_type": "code",
   "execution_count": null,
   "id": "4dfca1d3",
   "metadata": {
    "id": "4dfca1d3"
   },
   "outputs": [],
   "source": [
    "list1 = [2,3,4,5,6,7,8]"
   ]
  },
  {
   "cell_type": "code",
   "execution_count": null,
   "id": "7a0b4586",
   "metadata": {
    "id": "7a0b4586",
    "outputId": "a134441e-5d7c-475a-da1f-0379c44ebf18"
   },
   "outputs": [
    {
     "name": "stdout",
     "output_type": "stream",
     "text": [
      "[4, 9, 16, 25, 36, 49, 64]\n"
     ]
    }
   ],
   "source": [
    "list1 = [2,3,4,5,6,7,8]\n",
    "\n",
    "def sqr(lst):\n",
    "    sq=[]\n",
    "    for i in lst:\n",
    "        sq.append(i**2)\n",
    "    return sq\n",
    "print(sqr(list1))"
   ]
  },
  {
   "cell_type": "code",
   "execution_count": null,
   "id": "14291b76",
   "metadata": {
    "id": "14291b76",
    "outputId": "dbf05b60-7920-4461-80b7-33dd2c63d25e"
   },
   "outputs": [
    {
     "name": "stdout",
     "output_type": "stream",
     "text": [
      "[4, 9, 16, 25, 36, 49, 64]\n"
     ]
    }
   ],
   "source": [
    "list1 = [2,3,4,5,6,7,8]\n",
    "s=[]\n",
    "def sqr():\n",
    "    for i in list1:\n",
    "        s.append(i**2)\n",
    "    print(s)\n",
    "sqr()"
   ]
  },
  {
   "cell_type": "code",
   "execution_count": null,
   "id": "697c1de3",
   "metadata": {
    "id": "697c1de3",
    "outputId": "a59233b0-0c1a-4912-952c-18bf99e70036"
   },
   "outputs": [
    {
     "name": "stdout",
     "output_type": "stream",
     "text": [
      "[4, 9, 16, 25, 36, 49, 64]\n"
     ]
    }
   ],
   "source": [
    "list1 = [2,3,4,5,6,7,8]\n",
    "\n",
    "def sqr_list(list1):\n",
    "    sqr = [i**2 for i in list1]\n",
    "    return sqr\n",
    "print(sqr_list(list1))"
   ]
  },
  {
   "cell_type": "code",
   "execution_count": null,
   "id": "3ad3eb0c",
   "metadata": {
    "id": "3ad3eb0c"
   },
   "outputs": [],
   "source": [
    "list1 = [2,3,4,5,6,7,8]"
   ]
  },
  {
   "cell_type": "code",
   "execution_count": null,
   "id": "3071d135",
   "metadata": {
    "id": "3071d135",
    "outputId": "f47fc6db-911d-41a3-9630-c7e03526e83f"
   },
   "outputs": [
    {
     "data": {
      "text/plain": [
       "[4, 9, 16, 25, 36, 49, 64]"
      ]
     },
     "execution_count": 24,
     "metadata": {},
     "output_type": "execute_result"
    }
   ],
   "source": [
    "sq = lambda *k : [i*i for i in k]\n",
    "sq(2,3,4,5,6,7,8)"
   ]
  },
  {
   "cell_type": "code",
   "execution_count": null,
   "id": "a615cc9b",
   "metadata": {
    "id": "a615cc9b",
    "outputId": "01a485ea-9a43-4dd8-caae-907ae7dc3e37"
   },
   "outputs": [
    {
     "data": {
      "text/plain": [
       "[4, 9, 16, 25, 36, 49, 64]"
      ]
     },
     "execution_count": 25,
     "metadata": {},
     "output_type": "execute_result"
    }
   ],
   "source": [
    "list1 = [2,3,4,5,6,7,8]\n",
    "square = lambda list1: [i**2 for i in list1]\n",
    "square(list1)"
   ]
  },
  {
   "cell_type": "code",
   "execution_count": null,
   "id": "c2e9863a",
   "metadata": {
    "id": "c2e9863a",
    "outputId": "9a7ae514-8a56-4479-bff8-45f1311d2dc2"
   },
   "outputs": [
    {
     "name": "stdout",
     "output_type": "stream",
     "text": [
      "[4, 9, 16, 25, 36, 49, 64]\n"
     ]
    }
   ],
   "source": [
    "list1=[2,3,4,5,6,7,8]\n",
    "\n",
    "square_nums = list(map(lambda i: i ** 2, list1))\n",
    "print(square_nums)"
   ]
  },
  {
   "cell_type": "code",
   "execution_count": null,
   "id": "c0ea3d2b",
   "metadata": {
    "id": "c0ea3d2b",
    "outputId": "a2af5337-f1f1-4da7-c17c-548485b34df9"
   },
   "outputs": [
    {
     "data": {
      "text/plain": [
       "[4, 9, 16, 25, 36, 49, 64]"
      ]
     },
     "execution_count": 27,
     "metadata": {},
     "output_type": "execute_result"
    }
   ],
   "source": [
    "list1 = [2,3,4,5,6,7,8]\n",
    "sqr1= lambda list1: [i**2 for i in list1]\n",
    "sqr1(list1)"
   ]
  },
  {
   "cell_type": "code",
   "execution_count": 2,
   "id": "5d1ff2af",
   "metadata": {
    "id": "5d1ff2af",
    "outputId": "d583c00b-00e0-4ac4-c2de-40a9dece069a"
   },
   "outputs": [
    {
     "data": {
      "text/plain": [
       "[8, 27, 64, 125, 216, 343, 512]"
      ]
     },
     "execution_count": 2,
     "metadata": {},
     "output_type": "execute_result"
    }
   ],
   "source": [
    "list1 = [2,3,4,5,6,7,8]\n",
    "cube1= lambda list1: [i**3 for i in list1]\n",
    "cube1(list1)\n",
    "\n",
    "\n",
    "cube1([10,20,30])"
   ]
  },
  {
   "cell_type": "code",
   "execution_count": null,
   "id": "266f4616",
   "metadata": {
    "id": "266f4616"
   },
   "outputs": [],
   "source": []
  }
 ],
 "metadata": {
  "colab": {
   "name": "Lambda Function-checkpoint.ipynb",
   "provenance": []
  },
  "kernelspec": {
   "display_name": "Python 3 (ipykernel)",
   "language": "python",
   "name": "python3"
  },
  "language_info": {
   "codemirror_mode": {
    "name": "ipython",
    "version": 3
   },
   "file_extension": ".py",
   "mimetype": "text/x-python",
   "name": "python",
   "nbconvert_exporter": "python",
   "pygments_lexer": "ipython3",
   "version": "3.9.12"
  }
 },
 "nbformat": 4,
 "nbformat_minor": 5
}
