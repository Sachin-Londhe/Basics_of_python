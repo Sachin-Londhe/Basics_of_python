{
 "cells": [
  {
   "cell_type": "markdown",
   "id": "1c9dd787",
   "metadata": {},
   "source": [
    "# Built in Function"
   ]
  },
  {
   "cell_type": "code",
   "execution_count": 1,
   "id": "658ea7d6",
   "metadata": {},
   "outputs": [],
   "source": [
    "# 1. Zip()"
   ]
  },
  {
   "cell_type": "markdown",
   "id": "3d967a26",
   "metadata": {},
   "source": [
    "# 2. Filter()"
   ]
  },
  {
   "cell_type": "raw",
   "id": "4bf35e59",
   "metadata": {},
   "source": [
    "1. It will help us to get the true value / It will return only true values\n",
    "2. It will accept only one iterable\n",
    "3. filter(function_name, iterable)\n",
    "4. Funtion_Name >> It will return only true value/ Only true value will get executed"
   ]
  },
  {
   "cell_type": "code",
   "execution_count": 2,
   "id": "85a5a7b2",
   "metadata": {},
   "outputs": [],
   "source": [
    "def even_num(val):\n",
    "    if val % 2 == 0:\n",
    "        return val\n",
    "    \n",
    "even_num(11)"
   ]
  },
  {
   "cell_type": "code",
   "execution_count": 3,
   "id": "21529730",
   "metadata": {},
   "outputs": [
    {
     "data": {
      "text/plain": [
       "12"
      ]
     },
     "execution_count": 3,
     "metadata": {},
     "output_type": "execute_result"
    }
   ],
   "source": [
    "def even_num(val):\n",
    "    if val % 2 == 0:\n",
    "        return val\n",
    "    \n",
    "even_num(12)"
   ]
  },
  {
   "cell_type": "code",
   "execution_count": 5,
   "id": "bb4aac7b",
   "metadata": {},
   "outputs": [
    {
     "data": {
      "text/plain": [
       "14"
      ]
     },
     "execution_count": 5,
     "metadata": {},
     "output_type": "execute_result"
    }
   ],
   "source": [
    "def even_num(val):\n",
    "    if val % 2 == 0:\n",
    "        return val\n",
    "    \n",
    "even_num(14)"
   ]
  },
  {
   "cell_type": "code",
   "execution_count": 6,
   "id": "7d71495b",
   "metadata": {},
   "outputs": [
    {
     "data": {
      "text/plain": [
       "[2, 4, 6, 8]"
      ]
     },
     "execution_count": 6,
     "metadata": {},
     "output_type": "execute_result"
    }
   ],
   "source": [
    "list1 = [2,3,4,5,6,7,8]\n",
    "\n",
    "list(filter(even_num,list1))"
   ]
  },
  {
   "cell_type": "code",
   "execution_count": null,
   "id": "812e7a8c",
   "metadata": {},
   "outputs": [],
   "source": [
    "list1 = [2,3,4,5,6,7,8]"
   ]
  },
  {
   "cell_type": "code",
   "execution_count": 7,
   "id": "112e6765",
   "metadata": {},
   "outputs": [
    {
     "data": {
      "text/plain": [
       "[1, 3, 5, 7]"
      ]
     },
     "execution_count": 7,
     "metadata": {},
     "output_type": "execute_result"
    }
   ],
   "source": [
    "def odd_num(val):\n",
    "    if val%2 != 0:\n",
    "        return val\n",
    "list1 = [1,2,3,4,5,6,7,8]\n",
    "list(filter(odd_num,list1))"
   ]
  },
  {
   "cell_type": "code",
   "execution_count": 9,
   "id": "2dfa2b51",
   "metadata": {},
   "outputs": [
    {
     "data": {
      "text/plain": [
       "[3, 5, 7]"
      ]
     },
     "execution_count": 9,
     "metadata": {},
     "output_type": "execute_result"
    }
   ],
   "source": [
    "def odd_num(val):\n",
    "    if val %2!=0:\n",
    "        return val\n",
    "\n",
    "list1=[2,3,4,5,6,7,8]\n",
    "list(filter(odd_num, list1))"
   ]
  },
  {
   "cell_type": "code",
   "execution_count": 10,
   "id": "bcf27931",
   "metadata": {},
   "outputs": [
    {
     "data": {
      "text/plain": [
       "[3, 5, 7]"
      ]
     },
     "execution_count": 10,
     "metadata": {},
     "output_type": "execute_result"
    }
   ],
   "source": [
    "list1 = [2,3,4,5,6,7,8]\n",
    "\n",
    "def odd_num(n):\n",
    "    \n",
    "    if n%2!=0:\n",
    "        return n\n",
    "    \n",
    "list(filter(odd_num, list1))"
   ]
  },
  {
   "cell_type": "code",
   "execution_count": null,
   "id": "cce68d8e",
   "metadata": {},
   "outputs": [],
   "source": [
    "range(11,31)"
   ]
  },
  {
   "cell_type": "code",
   "execution_count": 11,
   "id": "2dfbf128",
   "metadata": {},
   "outputs": [
    {
     "name": "stdout",
     "output_type": "stream",
     "text": [
      "Even Numbers are: [12, 14, 16, 18, 20, 22, 24, 26, 28, 30]\n",
      "Odd Numbers are: [11, 13, 15, 17, 19, 21, 23, 25, 27, 29]\n"
     ]
    }
   ],
   "source": [
    "even_numbers = list(filter(lambda x : x%2==0, range(11,31)))\n",
    "print(\"Even Numbers are:\",even_numbers)\n",
    "odd_number = list(filter(lambda x : x%2!=0, range(11,31)))\n",
    "print(\"Odd Numbers are:\", odd_number)"
   ]
  },
  {
   "cell_type": "code",
   "execution_count": 14,
   "id": "c088e671",
   "metadata": {},
   "outputs": [
    {
     "name": "stdout",
     "output_type": "stream",
     "text": [
      "[12, 14, 16, 18, 20, 22, 24, 26, 28, 30]\n",
      "[11, 13, 15, 17, 19, 21, 23, 25, 27, 29]\n"
     ]
    }
   ],
   "source": [
    "even=list(filter(lambda x:x%2==0,range(11,31)))\n",
    "print(even)\n",
    "odd=list(filter(lambda x:x%2!=0,range(11,31)))\n",
    "print(odd)"
   ]
  },
  {
   "cell_type": "code",
   "execution_count": 16,
   "id": "54f28e90",
   "metadata": {},
   "outputs": [
    {
     "data": {
      "text/plain": [
       "[4, 9, 16, 25, 36]"
      ]
     },
     "execution_count": 16,
     "metadata": {},
     "output_type": "execute_result"
    }
   ],
   "source": [
    "list1 = [2,3,4,5,6]\n",
    "a = lambda list1 : [i**2 for i in list1]\n",
    "a(list1)"
   ]
  },
  {
   "cell_type": "markdown",
   "id": "ae9fdee7",
   "metadata": {},
   "source": [
    "# 3. map()"
   ]
  },
  {
   "cell_type": "raw",
   "id": "aba8ce33",
   "metadata": {},
   "source": [
    "1. Iterable DT >> list,tuple,string,set\n",
    "map(function_name,iterables)"
   ]
  },
  {
   "cell_type": "code",
   "execution_count": 18,
   "id": "f4f9a046",
   "metadata": {},
   "outputs": [
    {
     "data": {
      "text/plain": [
       "27"
      ]
     },
     "execution_count": 18,
     "metadata": {},
     "output_type": "execute_result"
    }
   ],
   "source": [
    "cube = lambda x : x**3\n",
    "cube(3)"
   ]
  },
  {
   "cell_type": "code",
   "execution_count": 19,
   "id": "132e5cbf",
   "metadata": {},
   "outputs": [
    {
     "data": {
      "text/plain": [
       "512"
      ]
     },
     "execution_count": 19,
     "metadata": {},
     "output_type": "execute_result"
    }
   ],
   "source": [
    "cube = lambda x : x**3\n",
    "cube(8)"
   ]
  },
  {
   "cell_type": "code",
   "execution_count": 20,
   "id": "bef5a231",
   "metadata": {},
   "outputs": [
    {
     "data": {
      "text/plain": [
       "8"
      ]
     },
     "execution_count": 20,
     "metadata": {},
     "output_type": "execute_result"
    }
   ],
   "source": [
    "cube(2)"
   ]
  },
  {
   "cell_type": "code",
   "execution_count": 21,
   "id": "f207b482",
   "metadata": {},
   "outputs": [
    {
     "data": {
      "text/plain": [
       "[8, 27, 64, 125, 216, 343]"
      ]
     },
     "execution_count": 21,
     "metadata": {},
     "output_type": "execute_result"
    }
   ],
   "source": [
    "list(map(cube,(2,3,4,5,6,7)))"
   ]
  },
  {
   "cell_type": "code",
   "execution_count": 22,
   "id": "61183a64",
   "metadata": {},
   "outputs": [
    {
     "data": {
      "text/plain": [
       "[1, 8, 64, 125, 216]"
      ]
     },
     "execution_count": 22,
     "metadata": {},
     "output_type": "execute_result"
    }
   ],
   "source": [
    "def cube(x):\n",
    "    return x**3\n",
    "\n",
    "list(map(cube,(1,2,4,5,6)))"
   ]
  },
  {
   "cell_type": "code",
   "execution_count": 23,
   "id": "4df34b1d",
   "metadata": {},
   "outputs": [
    {
     "data": {
      "text/plain": [
       "[8, 27, 64, 125, 216, 343]"
      ]
     },
     "execution_count": 23,
     "metadata": {},
     "output_type": "execute_result"
    }
   ],
   "source": [
    "cube = list(map(lambda x : x**3, (2,3,4,5,6,7)))\n",
    "cube"
   ]
  },
  {
   "cell_type": "code",
   "execution_count": 24,
   "id": "47475040",
   "metadata": {},
   "outputs": [
    {
     "data": {
      "text/plain": [
       "[8, 27, 64, 125, 216, 343]"
      ]
     },
     "execution_count": 24,
     "metadata": {},
     "output_type": "execute_result"
    }
   ],
   "source": [
    "list1=[2,3,4,5,6,7]\n",
    "x=lambda y:y**3\n",
    "list(map(x,list1))"
   ]
  },
  {
   "cell_type": "code",
   "execution_count": 26,
   "id": "c4b23aa1",
   "metadata": {},
   "outputs": [
    {
     "data": {
      "text/plain": [
       "[8, 27, 64, 125, 216, 343]"
      ]
     },
     "execution_count": 26,
     "metadata": {},
     "output_type": "execute_result"
    }
   ],
   "source": [
    "list(map((lambda a: a**3),(2,3,4,5,6,7)))"
   ]
  },
  {
   "cell_type": "code",
   "execution_count": 27,
   "id": "ae6fb05b",
   "metadata": {},
   "outputs": [
    {
     "data": {
      "text/plain": [
       "[4, 9, 16, 25, 36, 49]"
      ]
     },
     "execution_count": 27,
     "metadata": {},
     "output_type": "execute_result"
    }
   ],
   "source": [
    "list(map((lambda a: a**2),(2,3,4,5,6,7)))"
   ]
  },
  {
   "cell_type": "code",
   "execution_count": 29,
   "id": "4f64afd5",
   "metadata": {},
   "outputs": [],
   "source": [
    "list1 = [10,20,30,40]\n",
    "list2 = [2,3,4,5]"
   ]
  },
  {
   "cell_type": "code",
   "execution_count": 32,
   "id": "ea7e1fb1",
   "metadata": {},
   "outputs": [
    {
     "name": "stdout",
     "output_type": "stream",
     "text": [
      "(<function <lambda> at 0x0000015AD057E940>, [10, 20, 30, 40], [2, 3, 4, 5])\n"
     ]
    }
   ],
   "source": [
    "add = lambda x,y : x + y,"
   ]
  },
  {
   "cell_type": "code",
   "execution_count": 33,
   "id": "888fd108",
   "metadata": {},
   "outputs": [
    {
     "data": {
      "text/plain": [
       "[12, 23, 34, 45]"
      ]
     },
     "execution_count": 33,
     "metadata": {},
     "output_type": "execute_result"
    }
   ],
   "source": [
    "list1 = [10,20,30,40]\n",
    "list2 = [2,3,4,5]\n",
    "a=lambda x,y:[x[i]+y[i] for i in range(len(x))]\n",
    "a(list1,list2)"
   ]
  },
  {
   "cell_type": "code",
   "execution_count": 34,
   "id": "2a352f83",
   "metadata": {},
   "outputs": [
    {
     "name": "stdout",
     "output_type": "stream",
     "text": [
      "[20, 60, 120, 200]\n"
     ]
    }
   ],
   "source": [
    "list1 = [10,20,30,40]\n",
    "list2 = [2,3,4,5]\n",
    "\n",
    "multiplication = list(map(lambda x,y : x * y, list1,list2))\n",
    "print(multiplication)"
   ]
  },
  {
   "cell_type": "raw",
   "id": "439227ac",
   "metadata": {},
   "source": [
    "map(function_name,iterable)\n",
    "function : Lambda function, user defined function\n",
    "iterables : List,Tuple,String,Set"
   ]
  },
  {
   "cell_type": "code",
   "execution_count": null,
   "id": "39142950",
   "metadata": {},
   "outputs": [],
   "source": [
    "['python','class']"
   ]
  },
  {
   "cell_type": "code",
   "execution_count": 35,
   "id": "c91d761a",
   "metadata": {},
   "outputs": [
    {
     "data": {
      "text/plain": [
       "['PYTHON', 'CLASS']"
      ]
     },
     "execution_count": 35,
     "metadata": {},
     "output_type": "execute_result"
    }
   ],
   "source": [
    "list1 = [\"python\",\"class\"]\n",
    "\n",
    "def make_upper(val):\n",
    "    return val.upper()\n",
    "\n",
    "upper_vals = list(map(make_upper,list1))\n",
    "upper_vals"
   ]
  },
  {
   "cell_type": "code",
   "execution_count": 36,
   "id": "75d7bc61",
   "metadata": {},
   "outputs": [
    {
     "data": {
      "text/plain": [
       "['PYTHON', 'CLASS']"
      ]
     },
     "execution_count": 36,
     "metadata": {},
     "output_type": "execute_result"
    }
   ],
   "source": [
    "def upper(a):\n",
    "    return a.upper()\n",
    "a=['python','class']\n",
    "list(map(upper,a))"
   ]
  },
  {
   "cell_type": "code",
   "execution_count": null,
   "id": "8667d7aa",
   "metadata": {},
   "outputs": [],
   "source": [
    "{'python','class','1234'}"
   ]
  },
  {
   "cell_type": "code",
   "execution_count": 37,
   "id": "bfc42102",
   "metadata": {},
   "outputs": [
    {
     "name": "stdout",
     "output_type": "stream",
     "text": [
      "{'1234', 'PYTHON', 'CLASS'}\n"
     ]
    }
   ],
   "source": [
    "v={'python','class','1234'}\n",
    "a=set(map(lambda x: str(x).upper(),v))\n",
    "print(a)"
   ]
  },
  {
   "cell_type": "code",
   "execution_count": 39,
   "id": "c047c0a0",
   "metadata": {},
   "outputs": [
    {
     "name": "stdout",
     "output_type": "stream",
     "text": [
      "['1234', 'CLASS', 'PYTHON']\n"
     ]
    }
   ],
   "source": [
    "{'python','class','1234'}\n",
    "upper_case=list(map(lambda x : x.upper(),{'python','class','1234'}))\n",
    "print(upper_case)"
   ]
  },
  {
   "cell_type": "raw",
   "id": "1054274c",
   "metadata": {},
   "source": [
    "['Python','Machine','123']\n",
    "\n",
    "\n",
    "['Python Hello','Machine Hello','123 Hello']"
   ]
  },
  {
   "cell_type": "code",
   "execution_count": 44,
   "id": "5dd8c7a2",
   "metadata": {},
   "outputs": [
    {
     "name": "stdout",
     "output_type": "stream",
     "text": [
      "['python hello', 'class hello', '1234 hello']\n"
     ]
    }
   ],
   "source": [
    "['python','class','1234']\n",
    "out = map(lambda x:x +' hello',['python','class','1234'] )\n",
    "output = list(out)\n",
    "print(output)"
   ]
  },
  {
   "cell_type": "code",
   "execution_count": 41,
   "id": "5a801bb8",
   "metadata": {},
   "outputs": [
    {
     "data": {
      "text/plain": [
       "['Python Hello', 'Machine Hello', '123 Hello']"
      ]
     },
     "execution_count": 41,
     "metadata": {},
     "output_type": "execute_result"
    }
   ],
   "source": [
    "lst1 = ['Python','Machine','123']\n",
    "\n",
    "say_hello = list(map(lambda x : x +\" Hello\", lst1))\n",
    "say_hello"
   ]
  },
  {
   "cell_type": "code",
   "execution_count": 42,
   "id": "0d222191",
   "metadata": {},
   "outputs": [
    {
     "data": {
      "text/plain": [
       "['python Hello', 'machine Hello', '123 Hello']"
      ]
     },
     "execution_count": 42,
     "metadata": {},
     "output_type": "execute_result"
    }
   ],
   "source": [
    "a = ['python','machine','123']\n",
    "b = list(map(lambda x:x+' Hello',a))\n",
    "b"
   ]
  },
  {
   "cell_type": "code",
   "execution_count": null,
   "id": "ca410984",
   "metadata": {},
   "outputs": [],
   "source": []
  }
 ],
 "metadata": {
  "kernelspec": {
   "display_name": "Python 3 (ipykernel)",
   "language": "python",
   "name": "python3"
  },
  "language_info": {
   "codemirror_mode": {
    "name": "ipython",
    "version": 3
   },
   "file_extension": ".py",
   "mimetype": "text/x-python",
   "name": "python",
   "nbconvert_exporter": "python",
   "pygments_lexer": "ipython3",
   "version": "3.9.12"
  }
 },
 "nbformat": 4,
 "nbformat_minor": 5
}
